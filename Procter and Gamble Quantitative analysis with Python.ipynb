{
 "cells": [
  {
   "cell_type": "code",
   "execution_count": 1,
   "metadata": {},
   "outputs": [
    {
     "name": "stderr",
     "output_type": "stream",
     "text": [
      "/opt/anaconda3/lib/python3.7/site-packages/pandas_datareader/compat/__init__.py:7: FutureWarning: pandas.util.testing is deprecated. Use the functions in the public API at pandas.testing instead.\n",
      "  from pandas.util.testing import assert_frame_equal\n"
     ]
    }
   ],
   "source": [
    "import numpy as np\n",
    "from pandas_datareader import data as wb\n",
    "import matplotlib.pyplot as plt\n",
    "%matplotlib inline\n",
    "\n",
    "import warnings\n",
    "warnings.filterwarnings('ignore')"
   ]
  },
  {
   "cell_type": "code",
   "execution_count": 2,
   "metadata": {},
   "outputs": [],
   "source": [
    "PG = wb.DataReader('PG', data_source='yahoo', start='2019-06-03')"
   ]
  },
  {
   "cell_type": "code",
   "execution_count": 3,
   "metadata": {},
   "outputs": [
    {
     "data": {
      "text/html": [
       "<div>\n",
       "<style scoped>\n",
       "    .dataframe tbody tr th:only-of-type {\n",
       "        vertical-align: middle;\n",
       "    }\n",
       "\n",
       "    .dataframe tbody tr th {\n",
       "        vertical-align: top;\n",
       "    }\n",
       "\n",
       "    .dataframe thead th {\n",
       "        text-align: right;\n",
       "    }\n",
       "</style>\n",
       "<table border=\"1\" class=\"dataframe\">\n",
       "  <thead>\n",
       "    <tr style=\"text-align: right;\">\n",
       "      <th></th>\n",
       "      <th>High</th>\n",
       "      <th>Low</th>\n",
       "      <th>Open</th>\n",
       "      <th>Close</th>\n",
       "      <th>Volume</th>\n",
       "      <th>Adj Close</th>\n",
       "    </tr>\n",
       "    <tr>\n",
       "      <th>Date</th>\n",
       "      <th></th>\n",
       "      <th></th>\n",
       "      <th></th>\n",
       "      <th></th>\n",
       "      <th></th>\n",
       "      <th></th>\n",
       "    </tr>\n",
       "  </thead>\n",
       "  <tbody>\n",
       "    <tr>\n",
       "      <th>2019-06-03</th>\n",
       "      <td>103.959999</td>\n",
       "      <td>102.400002</td>\n",
       "      <td>103.150002</td>\n",
       "      <td>103.800003</td>\n",
       "      <td>8532900.0</td>\n",
       "      <td>101.197372</td>\n",
       "    </tr>\n",
       "    <tr>\n",
       "      <th>2019-06-04</th>\n",
       "      <td>105.099998</td>\n",
       "      <td>103.849998</td>\n",
       "      <td>104.010002</td>\n",
       "      <td>104.680000</td>\n",
       "      <td>6906400.0</td>\n",
       "      <td>102.055313</td>\n",
       "    </tr>\n",
       "    <tr>\n",
       "      <th>2019-06-05</th>\n",
       "      <td>106.750000</td>\n",
       "      <td>104.889999</td>\n",
       "      <td>105.239998</td>\n",
       "      <td>106.730003</td>\n",
       "      <td>6481700.0</td>\n",
       "      <td>104.053909</td>\n",
       "    </tr>\n",
       "    <tr>\n",
       "      <th>2019-06-06</th>\n",
       "      <td>107.680000</td>\n",
       "      <td>106.330002</td>\n",
       "      <td>106.849998</td>\n",
       "      <td>107.379997</td>\n",
       "      <td>6681600.0</td>\n",
       "      <td>104.687607</td>\n",
       "    </tr>\n",
       "    <tr>\n",
       "      <th>2019-06-07</th>\n",
       "      <td>109.379997</td>\n",
       "      <td>107.739998</td>\n",
       "      <td>107.739998</td>\n",
       "      <td>108.769997</td>\n",
       "      <td>8063400.0</td>\n",
       "      <td>106.042755</td>\n",
       "    </tr>\n",
       "    <tr>\n",
       "      <th>2019-06-10</th>\n",
       "      <td>109.019997</td>\n",
       "      <td>107.459999</td>\n",
       "      <td>108.320000</td>\n",
       "      <td>108.720001</td>\n",
       "      <td>4767000.0</td>\n",
       "      <td>105.994011</td>\n",
       "    </tr>\n",
       "    <tr>\n",
       "      <th>2019-06-11</th>\n",
       "      <td>109.599998</td>\n",
       "      <td>108.870003</td>\n",
       "      <td>108.940002</td>\n",
       "      <td>109.379997</td>\n",
       "      <td>8074400.0</td>\n",
       "      <td>106.637451</td>\n",
       "    </tr>\n",
       "    <tr>\n",
       "      <th>2019-06-12</th>\n",
       "      <td>110.660004</td>\n",
       "      <td>109.580002</td>\n",
       "      <td>109.599998</td>\n",
       "      <td>109.680000</td>\n",
       "      <td>7687800.0</td>\n",
       "      <td>106.929939</td>\n",
       "    </tr>\n",
       "    <tr>\n",
       "      <th>2019-06-13</th>\n",
       "      <td>110.949997</td>\n",
       "      <td>109.860001</td>\n",
       "      <td>109.980003</td>\n",
       "      <td>110.910004</td>\n",
       "      <td>8611400.0</td>\n",
       "      <td>108.129105</td>\n",
       "    </tr>\n",
       "    <tr>\n",
       "      <th>2019-06-14</th>\n",
       "      <td>111.750000</td>\n",
       "      <td>110.650002</td>\n",
       "      <td>110.970001</td>\n",
       "      <td>111.199997</td>\n",
       "      <td>6438100.0</td>\n",
       "      <td>108.411827</td>\n",
       "    </tr>\n",
       "  </tbody>\n",
       "</table>\n",
       "</div>"
      ],
      "text/plain": [
       "                  High         Low        Open       Close     Volume  \\\n",
       "Date                                                                    \n",
       "2019-06-03  103.959999  102.400002  103.150002  103.800003  8532900.0   \n",
       "2019-06-04  105.099998  103.849998  104.010002  104.680000  6906400.0   \n",
       "2019-06-05  106.750000  104.889999  105.239998  106.730003  6481700.0   \n",
       "2019-06-06  107.680000  106.330002  106.849998  107.379997  6681600.0   \n",
       "2019-06-07  109.379997  107.739998  107.739998  108.769997  8063400.0   \n",
       "2019-06-10  109.019997  107.459999  108.320000  108.720001  4767000.0   \n",
       "2019-06-11  109.599998  108.870003  108.940002  109.379997  8074400.0   \n",
       "2019-06-12  110.660004  109.580002  109.599998  109.680000  7687800.0   \n",
       "2019-06-13  110.949997  109.860001  109.980003  110.910004  8611400.0   \n",
       "2019-06-14  111.750000  110.650002  110.970001  111.199997  6438100.0   \n",
       "\n",
       "             Adj Close  \n",
       "Date                    \n",
       "2019-06-03  101.197372  \n",
       "2019-06-04  102.055313  \n",
       "2019-06-05  104.053909  \n",
       "2019-06-06  104.687607  \n",
       "2019-06-07  106.042755  \n",
       "2019-06-10  105.994011  \n",
       "2019-06-11  106.637451  \n",
       "2019-06-12  106.929939  \n",
       "2019-06-13  108.129105  \n",
       "2019-06-14  108.411827  "
      ]
     },
     "execution_count": 3,
     "metadata": {},
     "output_type": "execute_result"
    }
   ],
   "source": [
    "PG.head(n=10)"
   ]
  },
  {
   "cell_type": "code",
   "execution_count": 4,
   "metadata": {},
   "outputs": [
    {
     "data": {
      "text/html": [
       "<div>\n",
       "<style scoped>\n",
       "    .dataframe tbody tr th:only-of-type {\n",
       "        vertical-align: middle;\n",
       "    }\n",
       "\n",
       "    .dataframe tbody tr th {\n",
       "        vertical-align: top;\n",
       "    }\n",
       "\n",
       "    .dataframe thead th {\n",
       "        text-align: right;\n",
       "    }\n",
       "</style>\n",
       "<table border=\"1\" class=\"dataframe\">\n",
       "  <thead>\n",
       "    <tr style=\"text-align: right;\">\n",
       "      <th></th>\n",
       "      <th>High</th>\n",
       "      <th>Low</th>\n",
       "      <th>Open</th>\n",
       "      <th>Close</th>\n",
       "      <th>Volume</th>\n",
       "      <th>Adj Close</th>\n",
       "    </tr>\n",
       "    <tr>\n",
       "      <th>Date</th>\n",
       "      <th></th>\n",
       "      <th></th>\n",
       "      <th></th>\n",
       "      <th></th>\n",
       "      <th></th>\n",
       "      <th></th>\n",
       "    </tr>\n",
       "  </thead>\n",
       "  <tbody>\n",
       "    <tr>\n",
       "      <th>2020-06-08</th>\n",
       "      <td>119.120003</td>\n",
       "      <td>116.839996</td>\n",
       "      <td>117.440002</td>\n",
       "      <td>119.050003</td>\n",
       "      <td>6926700.0</td>\n",
       "      <td>119.050003</td>\n",
       "    </tr>\n",
       "    <tr>\n",
       "      <th>2020-06-09</th>\n",
       "      <td>119.760002</td>\n",
       "      <td>118.150002</td>\n",
       "      <td>119.400002</td>\n",
       "      <td>118.339996</td>\n",
       "      <td>5563200.0</td>\n",
       "      <td>118.339996</td>\n",
       "    </tr>\n",
       "    <tr>\n",
       "      <th>2020-06-10</th>\n",
       "      <td>119.889999</td>\n",
       "      <td>118.110001</td>\n",
       "      <td>119.000000</td>\n",
       "      <td>119.230003</td>\n",
       "      <td>6678200.0</td>\n",
       "      <td>119.230003</td>\n",
       "    </tr>\n",
       "    <tr>\n",
       "      <th>2020-06-11</th>\n",
       "      <td>119.570000</td>\n",
       "      <td>116.000000</td>\n",
       "      <td>118.809998</td>\n",
       "      <td>116.260002</td>\n",
       "      <td>8937500.0</td>\n",
       "      <td>116.260002</td>\n",
       "    </tr>\n",
       "    <tr>\n",
       "      <th>2020-06-12</th>\n",
       "      <td>118.050003</td>\n",
       "      <td>115.260002</td>\n",
       "      <td>116.589996</td>\n",
       "      <td>115.620003</td>\n",
       "      <td>7998500.0</td>\n",
       "      <td>115.620003</td>\n",
       "    </tr>\n",
       "    <tr>\n",
       "      <th>2020-06-15</th>\n",
       "      <td>117.279999</td>\n",
       "      <td>113.760002</td>\n",
       "      <td>114.550003</td>\n",
       "      <td>116.690002</td>\n",
       "      <td>8786000.0</td>\n",
       "      <td>116.690002</td>\n",
       "    </tr>\n",
       "    <tr>\n",
       "      <th>2020-06-16</th>\n",
       "      <td>118.970001</td>\n",
       "      <td>116.930000</td>\n",
       "      <td>118.529999</td>\n",
       "      <td>118.129997</td>\n",
       "      <td>8165200.0</td>\n",
       "      <td>118.129997</td>\n",
       "    </tr>\n",
       "    <tr>\n",
       "      <th>2020-06-17</th>\n",
       "      <td>119.110001</td>\n",
       "      <td>117.440002</td>\n",
       "      <td>118.389999</td>\n",
       "      <td>117.930000</td>\n",
       "      <td>6320800.0</td>\n",
       "      <td>117.930000</td>\n",
       "    </tr>\n",
       "    <tr>\n",
       "      <th>2020-06-18</th>\n",
       "      <td>119.959999</td>\n",
       "      <td>117.370003</td>\n",
       "      <td>117.459999</td>\n",
       "      <td>119.279999</td>\n",
       "      <td>6274400.0</td>\n",
       "      <td>119.279999</td>\n",
       "    </tr>\n",
       "    <tr>\n",
       "      <th>2020-06-19</th>\n",
       "      <td>121.820000</td>\n",
       "      <td>118.830002</td>\n",
       "      <td>120.489998</td>\n",
       "      <td>118.919998</td>\n",
       "      <td>17506200.0</td>\n",
       "      <td>118.919998</td>\n",
       "    </tr>\n",
       "  </tbody>\n",
       "</table>\n",
       "</div>"
      ],
      "text/plain": [
       "                  High         Low        Open       Close      Volume  \\\n",
       "Date                                                                     \n",
       "2020-06-08  119.120003  116.839996  117.440002  119.050003   6926700.0   \n",
       "2020-06-09  119.760002  118.150002  119.400002  118.339996   5563200.0   \n",
       "2020-06-10  119.889999  118.110001  119.000000  119.230003   6678200.0   \n",
       "2020-06-11  119.570000  116.000000  118.809998  116.260002   8937500.0   \n",
       "2020-06-12  118.050003  115.260002  116.589996  115.620003   7998500.0   \n",
       "2020-06-15  117.279999  113.760002  114.550003  116.690002   8786000.0   \n",
       "2020-06-16  118.970001  116.930000  118.529999  118.129997   8165200.0   \n",
       "2020-06-17  119.110001  117.440002  118.389999  117.930000   6320800.0   \n",
       "2020-06-18  119.959999  117.370003  117.459999  119.279999   6274400.0   \n",
       "2020-06-19  121.820000  118.830002  120.489998  118.919998  17506200.0   \n",
       "\n",
       "             Adj Close  \n",
       "Date                    \n",
       "2020-06-08  119.050003  \n",
       "2020-06-09  118.339996  \n",
       "2020-06-10  119.230003  \n",
       "2020-06-11  116.260002  \n",
       "2020-06-12  115.620003  \n",
       "2020-06-15  116.690002  \n",
       "2020-06-16  118.129997  \n",
       "2020-06-17  117.930000  \n",
       "2020-06-18  119.279999  \n",
       "2020-06-19  118.919998  "
      ]
     },
     "execution_count": 4,
     "metadata": {},
     "output_type": "execute_result"
    }
   ],
   "source": [
    "PG.tail(n=10)"
   ]
  },
  {
   "cell_type": "markdown",
   "metadata": {},
   "source": [
    "# Simple Rate of Return\n",
    "\n",
    "p1-p0/p0 which is same as (p1/p0)-1"
   ]
  },
  {
   "cell_type": "code",
   "execution_count": 5,
   "metadata": {},
   "outputs": [],
   "source": [
    "PG[\"simple_return\"] = (PG['Adj Close']/PG['Adj Close'].shift(1))-1"
   ]
  },
  {
   "cell_type": "code",
   "execution_count": 6,
   "metadata": {},
   "outputs": [
    {
     "data": {
      "text/html": [
       "<div>\n",
       "<style scoped>\n",
       "    .dataframe tbody tr th:only-of-type {\n",
       "        vertical-align: middle;\n",
       "    }\n",
       "\n",
       "    .dataframe tbody tr th {\n",
       "        vertical-align: top;\n",
       "    }\n",
       "\n",
       "    .dataframe thead th {\n",
       "        text-align: right;\n",
       "    }\n",
       "</style>\n",
       "<table border=\"1\" class=\"dataframe\">\n",
       "  <thead>\n",
       "    <tr style=\"text-align: right;\">\n",
       "      <th></th>\n",
       "      <th>High</th>\n",
       "      <th>Low</th>\n",
       "      <th>Open</th>\n",
       "      <th>Close</th>\n",
       "      <th>Volume</th>\n",
       "      <th>Adj Close</th>\n",
       "      <th>simple_return</th>\n",
       "    </tr>\n",
       "    <tr>\n",
       "      <th>Date</th>\n",
       "      <th></th>\n",
       "      <th></th>\n",
       "      <th></th>\n",
       "      <th></th>\n",
       "      <th></th>\n",
       "      <th></th>\n",
       "      <th></th>\n",
       "    </tr>\n",
       "  </thead>\n",
       "  <tbody>\n",
       "    <tr>\n",
       "      <th>2019-06-03</th>\n",
       "      <td>103.959999</td>\n",
       "      <td>102.400002</td>\n",
       "      <td>103.150002</td>\n",
       "      <td>103.800003</td>\n",
       "      <td>8532900.0</td>\n",
       "      <td>101.197372</td>\n",
       "      <td>NaN</td>\n",
       "    </tr>\n",
       "    <tr>\n",
       "      <th>2019-06-04</th>\n",
       "      <td>105.099998</td>\n",
       "      <td>103.849998</td>\n",
       "      <td>104.010002</td>\n",
       "      <td>104.680000</td>\n",
       "      <td>6906400.0</td>\n",
       "      <td>102.055313</td>\n",
       "      <td>0.008478</td>\n",
       "    </tr>\n",
       "    <tr>\n",
       "      <th>2019-06-05</th>\n",
       "      <td>106.750000</td>\n",
       "      <td>104.889999</td>\n",
       "      <td>105.239998</td>\n",
       "      <td>106.730003</td>\n",
       "      <td>6481700.0</td>\n",
       "      <td>104.053909</td>\n",
       "      <td>0.019583</td>\n",
       "    </tr>\n",
       "    <tr>\n",
       "      <th>2019-06-06</th>\n",
       "      <td>107.680000</td>\n",
       "      <td>106.330002</td>\n",
       "      <td>106.849998</td>\n",
       "      <td>107.379997</td>\n",
       "      <td>6681600.0</td>\n",
       "      <td>104.687607</td>\n",
       "      <td>0.006090</td>\n",
       "    </tr>\n",
       "    <tr>\n",
       "      <th>2019-06-07</th>\n",
       "      <td>109.379997</td>\n",
       "      <td>107.739998</td>\n",
       "      <td>107.739998</td>\n",
       "      <td>108.769997</td>\n",
       "      <td>8063400.0</td>\n",
       "      <td>106.042755</td>\n",
       "      <td>0.012945</td>\n",
       "    </tr>\n",
       "    <tr>\n",
       "      <th>2019-06-10</th>\n",
       "      <td>109.019997</td>\n",
       "      <td>107.459999</td>\n",
       "      <td>108.320000</td>\n",
       "      <td>108.720001</td>\n",
       "      <td>4767000.0</td>\n",
       "      <td>105.994011</td>\n",
       "      <td>-0.000460</td>\n",
       "    </tr>\n",
       "    <tr>\n",
       "      <th>2019-06-11</th>\n",
       "      <td>109.599998</td>\n",
       "      <td>108.870003</td>\n",
       "      <td>108.940002</td>\n",
       "      <td>109.379997</td>\n",
       "      <td>8074400.0</td>\n",
       "      <td>106.637451</td>\n",
       "      <td>0.006071</td>\n",
       "    </tr>\n",
       "    <tr>\n",
       "      <th>2019-06-12</th>\n",
       "      <td>110.660004</td>\n",
       "      <td>109.580002</td>\n",
       "      <td>109.599998</td>\n",
       "      <td>109.680000</td>\n",
       "      <td>7687800.0</td>\n",
       "      <td>106.929939</td>\n",
       "      <td>0.002743</td>\n",
       "    </tr>\n",
       "    <tr>\n",
       "      <th>2019-06-13</th>\n",
       "      <td>110.949997</td>\n",
       "      <td>109.860001</td>\n",
       "      <td>109.980003</td>\n",
       "      <td>110.910004</td>\n",
       "      <td>8611400.0</td>\n",
       "      <td>108.129105</td>\n",
       "      <td>0.011214</td>\n",
       "    </tr>\n",
       "    <tr>\n",
       "      <th>2019-06-14</th>\n",
       "      <td>111.750000</td>\n",
       "      <td>110.650002</td>\n",
       "      <td>110.970001</td>\n",
       "      <td>111.199997</td>\n",
       "      <td>6438100.0</td>\n",
       "      <td>108.411827</td>\n",
       "      <td>0.002615</td>\n",
       "    </tr>\n",
       "  </tbody>\n",
       "</table>\n",
       "</div>"
      ],
      "text/plain": [
       "                  High         Low        Open       Close     Volume  \\\n",
       "Date                                                                    \n",
       "2019-06-03  103.959999  102.400002  103.150002  103.800003  8532900.0   \n",
       "2019-06-04  105.099998  103.849998  104.010002  104.680000  6906400.0   \n",
       "2019-06-05  106.750000  104.889999  105.239998  106.730003  6481700.0   \n",
       "2019-06-06  107.680000  106.330002  106.849998  107.379997  6681600.0   \n",
       "2019-06-07  109.379997  107.739998  107.739998  108.769997  8063400.0   \n",
       "2019-06-10  109.019997  107.459999  108.320000  108.720001  4767000.0   \n",
       "2019-06-11  109.599998  108.870003  108.940002  109.379997  8074400.0   \n",
       "2019-06-12  110.660004  109.580002  109.599998  109.680000  7687800.0   \n",
       "2019-06-13  110.949997  109.860001  109.980003  110.910004  8611400.0   \n",
       "2019-06-14  111.750000  110.650002  110.970001  111.199997  6438100.0   \n",
       "\n",
       "             Adj Close  simple_return  \n",
       "Date                                   \n",
       "2019-06-03  101.197372            NaN  \n",
       "2019-06-04  102.055313       0.008478  \n",
       "2019-06-05  104.053909       0.019583  \n",
       "2019-06-06  104.687607       0.006090  \n",
       "2019-06-07  106.042755       0.012945  \n",
       "2019-06-10  105.994011      -0.000460  \n",
       "2019-06-11  106.637451       0.006071  \n",
       "2019-06-12  106.929939       0.002743  \n",
       "2019-06-13  108.129105       0.011214  \n",
       "2019-06-14  108.411827       0.002615  "
      ]
     },
     "execution_count": 6,
     "metadata": {},
     "output_type": "execute_result"
    }
   ],
   "source": [
    "PG.head(10)"
   ]
  },
  {
   "cell_type": "code",
   "execution_count": 7,
   "metadata": {},
   "outputs": [
    {
     "data": {
      "text/html": [
       "<div>\n",
       "<style scoped>\n",
       "    .dataframe tbody tr th:only-of-type {\n",
       "        vertical-align: middle;\n",
       "    }\n",
       "\n",
       "    .dataframe tbody tr th {\n",
       "        vertical-align: top;\n",
       "    }\n",
       "\n",
       "    .dataframe thead th {\n",
       "        text-align: right;\n",
       "    }\n",
       "</style>\n",
       "<table border=\"1\" class=\"dataframe\">\n",
       "  <thead>\n",
       "    <tr style=\"text-align: right;\">\n",
       "      <th></th>\n",
       "      <th>High</th>\n",
       "      <th>Low</th>\n",
       "      <th>Open</th>\n",
       "      <th>Close</th>\n",
       "      <th>Volume</th>\n",
       "      <th>Adj Close</th>\n",
       "      <th>simple_return</th>\n",
       "    </tr>\n",
       "    <tr>\n",
       "      <th>Date</th>\n",
       "      <th></th>\n",
       "      <th></th>\n",
       "      <th></th>\n",
       "      <th></th>\n",
       "      <th></th>\n",
       "      <th></th>\n",
       "      <th></th>\n",
       "    </tr>\n",
       "  </thead>\n",
       "  <tbody>\n",
       "    <tr>\n",
       "      <th>2020-06-08</th>\n",
       "      <td>119.120003</td>\n",
       "      <td>116.839996</td>\n",
       "      <td>117.440002</td>\n",
       "      <td>119.050003</td>\n",
       "      <td>6926700.0</td>\n",
       "      <td>119.050003</td>\n",
       "      <td>0.006085</td>\n",
       "    </tr>\n",
       "    <tr>\n",
       "      <th>2020-06-09</th>\n",
       "      <td>119.760002</td>\n",
       "      <td>118.150002</td>\n",
       "      <td>119.400002</td>\n",
       "      <td>118.339996</td>\n",
       "      <td>5563200.0</td>\n",
       "      <td>118.339996</td>\n",
       "      <td>-0.005964</td>\n",
       "    </tr>\n",
       "    <tr>\n",
       "      <th>2020-06-10</th>\n",
       "      <td>119.889999</td>\n",
       "      <td>118.110001</td>\n",
       "      <td>119.000000</td>\n",
       "      <td>119.230003</td>\n",
       "      <td>6678200.0</td>\n",
       "      <td>119.230003</td>\n",
       "      <td>0.007521</td>\n",
       "    </tr>\n",
       "    <tr>\n",
       "      <th>2020-06-11</th>\n",
       "      <td>119.570000</td>\n",
       "      <td>116.000000</td>\n",
       "      <td>118.809998</td>\n",
       "      <td>116.260002</td>\n",
       "      <td>8937500.0</td>\n",
       "      <td>116.260002</td>\n",
       "      <td>-0.024910</td>\n",
       "    </tr>\n",
       "    <tr>\n",
       "      <th>2020-06-12</th>\n",
       "      <td>118.050003</td>\n",
       "      <td>115.260002</td>\n",
       "      <td>116.589996</td>\n",
       "      <td>115.620003</td>\n",
       "      <td>7998500.0</td>\n",
       "      <td>115.620003</td>\n",
       "      <td>-0.005505</td>\n",
       "    </tr>\n",
       "    <tr>\n",
       "      <th>2020-06-15</th>\n",
       "      <td>117.279999</td>\n",
       "      <td>113.760002</td>\n",
       "      <td>114.550003</td>\n",
       "      <td>116.690002</td>\n",
       "      <td>8786000.0</td>\n",
       "      <td>116.690002</td>\n",
       "      <td>0.009254</td>\n",
       "    </tr>\n",
       "    <tr>\n",
       "      <th>2020-06-16</th>\n",
       "      <td>118.970001</td>\n",
       "      <td>116.930000</td>\n",
       "      <td>118.529999</td>\n",
       "      <td>118.129997</td>\n",
       "      <td>8165200.0</td>\n",
       "      <td>118.129997</td>\n",
       "      <td>0.012340</td>\n",
       "    </tr>\n",
       "    <tr>\n",
       "      <th>2020-06-17</th>\n",
       "      <td>119.110001</td>\n",
       "      <td>117.440002</td>\n",
       "      <td>118.389999</td>\n",
       "      <td>117.930000</td>\n",
       "      <td>6320800.0</td>\n",
       "      <td>117.930000</td>\n",
       "      <td>-0.001693</td>\n",
       "    </tr>\n",
       "    <tr>\n",
       "      <th>2020-06-18</th>\n",
       "      <td>119.959999</td>\n",
       "      <td>117.370003</td>\n",
       "      <td>117.459999</td>\n",
       "      <td>119.279999</td>\n",
       "      <td>6274400.0</td>\n",
       "      <td>119.279999</td>\n",
       "      <td>0.011447</td>\n",
       "    </tr>\n",
       "    <tr>\n",
       "      <th>2020-06-19</th>\n",
       "      <td>121.820000</td>\n",
       "      <td>118.830002</td>\n",
       "      <td>120.489998</td>\n",
       "      <td>118.919998</td>\n",
       "      <td>17506200.0</td>\n",
       "      <td>118.919998</td>\n",
       "      <td>-0.003018</td>\n",
       "    </tr>\n",
       "  </tbody>\n",
       "</table>\n",
       "</div>"
      ],
      "text/plain": [
       "                  High         Low        Open       Close      Volume  \\\n",
       "Date                                                                     \n",
       "2020-06-08  119.120003  116.839996  117.440002  119.050003   6926700.0   \n",
       "2020-06-09  119.760002  118.150002  119.400002  118.339996   5563200.0   \n",
       "2020-06-10  119.889999  118.110001  119.000000  119.230003   6678200.0   \n",
       "2020-06-11  119.570000  116.000000  118.809998  116.260002   8937500.0   \n",
       "2020-06-12  118.050003  115.260002  116.589996  115.620003   7998500.0   \n",
       "2020-06-15  117.279999  113.760002  114.550003  116.690002   8786000.0   \n",
       "2020-06-16  118.970001  116.930000  118.529999  118.129997   8165200.0   \n",
       "2020-06-17  119.110001  117.440002  118.389999  117.930000   6320800.0   \n",
       "2020-06-18  119.959999  117.370003  117.459999  119.279999   6274400.0   \n",
       "2020-06-19  121.820000  118.830002  120.489998  118.919998  17506200.0   \n",
       "\n",
       "             Adj Close  simple_return  \n",
       "Date                                   \n",
       "2020-06-08  119.050003       0.006085  \n",
       "2020-06-09  118.339996      -0.005964  \n",
       "2020-06-10  119.230003       0.007521  \n",
       "2020-06-11  116.260002      -0.024910  \n",
       "2020-06-12  115.620003      -0.005505  \n",
       "2020-06-15  116.690002       0.009254  \n",
       "2020-06-16  118.129997       0.012340  \n",
       "2020-06-17  117.930000      -0.001693  \n",
       "2020-06-18  119.279999       0.011447  \n",
       "2020-06-19  118.919998      -0.003018  "
      ]
     },
     "execution_count": 7,
     "metadata": {},
     "output_type": "execute_result"
    }
   ],
   "source": [
    "PG.tail(10)"
   ]
  },
  {
   "cell_type": "code",
   "execution_count": 8,
   "metadata": {},
   "outputs": [
    {
     "name": "stdout",
     "output_type": "stream",
     "text": [
      "Date\n",
      "2019-06-03         NaN\n",
      "2019-06-04    0.008478\n",
      "2019-06-05    0.019583\n",
      "2019-06-06    0.006090\n",
      "2019-06-07    0.012945\n",
      "                ...   \n",
      "2020-06-15    0.009254\n",
      "2020-06-16    0.012340\n",
      "2020-06-17   -0.001693\n",
      "2020-06-18    0.011447\n",
      "2020-06-19   -0.003018\n",
      "Name: simple_return, Length: 266, dtype: float64\n"
     ]
    }
   ],
   "source": [
    "print(PG['simple_return'])"
   ]
  },
  {
   "cell_type": "markdown",
   "metadata": {},
   "source": [
    "\n",
    "# Graph of simple_return\n"
   ]
  },
  {
   "cell_type": "code",
   "execution_count": 9,
   "metadata": {},
   "outputs": [
    {
     "data": {
      "image/png": "[encoded data removed]",
      "text/plain": [
       "<Figure size 576x360 with 1 Axes>"
      ]
     },
     "metadata": {
      "needs_background": "light"
     },
     "output_type": "display_data"
    }
   ],
   "source": [
    "PG['simple_return'].plot(figsize=(8,5))\n",
    "plt.show()"
   ]
  },
  {
   "cell_type": "markdown",
   "metadata": {},
   "source": [
    "# Average daily return"
   ]
  },
  {
   "cell_type": "code",
   "execution_count": 10,
   "metadata": {},
   "outputs": [],
   "source": [
    "avg_returns_d = PG['simple_return'].mean()\n"
   ]
  },
  {
   "cell_type": "code",
   "execution_count": 11,
   "metadata": {},
   "outputs": [
    {
     "data": {
      "text/plain": [
       "0.0008163870139192896"
      ]
     },
     "execution_count": 11,
     "metadata": {},
     "output_type": "execute_result"
    }
   ],
   "source": [
    "avg_returns_d"
   ]
  },
  {
   "cell_type": "markdown",
   "metadata": {},
   "source": [
    "# Average annual returns"
   ]
  },
  {
   "cell_type": "code",
   "execution_count": 12,
   "metadata": {},
   "outputs": [],
   "source": [
    "#very very less hence investors interested in annual returns\n",
    "\n",
    "avg_returns_a = PG['simple_return'].mean()*250"
   ]
  },
  {
   "cell_type": "code",
   "execution_count": 13,
   "metadata": {},
   "outputs": [
    {
     "data": {
      "text/plain": [
       "0.2040967534798224"
      ]
     },
     "execution_count": 13,
     "metadata": {},
     "output_type": "execute_result"
    }
   ],
   "source": [
    "avg_returns_a"
   ]
  },
  {
   "cell_type": "code",
   "execution_count": 14,
   "metadata": {},
   "outputs": [
    {
     "name": "stdout",
     "output_type": "stream",
     "text": [
      "20.41%\n"
     ]
    }
   ],
   "source": [
    "print (str(round(avg_returns_a, 5) *100) + '%')"
   ]
  },
  {
   "cell_type": "markdown",
   "metadata": {},
   "source": [
    "# Log returns"
   ]
  },
  {
   "cell_type": "code",
   "execution_count": 15,
   "metadata": {},
   "outputs": [],
   "source": [
    "#log returns are useful for single stock \n",
    "#simple returns are useful for multiple stocks\n",
    "\n",
    "#formula of log returns = ln(p1/p0)= ln p1-ln p0"
   ]
  },
  {
   "cell_type": "code",
   "execution_count": 16,
   "metadata": {},
   "outputs": [
    {
     "data": {
      "text/html": [
       "<div>\n",
       "<style scoped>\n",
       "    .dataframe tbody tr th:only-of-type {\n",
       "        vertical-align: middle;\n",
       "    }\n",
       "\n",
       "    .dataframe tbody tr th {\n",
       "        vertical-align: top;\n",
       "    }\n",
       "\n",
       "    .dataframe thead th {\n",
       "        text-align: right;\n",
       "    }\n",
       "</style>\n",
       "<table border=\"1\" class=\"dataframe\">\n",
       "  <thead>\n",
       "    <tr style=\"text-align: right;\">\n",
       "      <th></th>\n",
       "      <th>High</th>\n",
       "      <th>Low</th>\n",
       "      <th>Open</th>\n",
       "      <th>Close</th>\n",
       "      <th>Volume</th>\n",
       "      <th>Adj Close</th>\n",
       "      <th>simple_return</th>\n",
       "    </tr>\n",
       "    <tr>\n",
       "      <th>Date</th>\n",
       "      <th></th>\n",
       "      <th></th>\n",
       "      <th></th>\n",
       "      <th></th>\n",
       "      <th></th>\n",
       "      <th></th>\n",
       "      <th></th>\n",
       "    </tr>\n",
       "  </thead>\n",
       "  <tbody>\n",
       "    <tr>\n",
       "      <th>2019-06-03</th>\n",
       "      <td>103.959999</td>\n",
       "      <td>102.400002</td>\n",
       "      <td>103.150002</td>\n",
       "      <td>103.800003</td>\n",
       "      <td>8532900.0</td>\n",
       "      <td>101.197372</td>\n",
       "      <td>NaN</td>\n",
       "    </tr>\n",
       "    <tr>\n",
       "      <th>2019-06-04</th>\n",
       "      <td>105.099998</td>\n",
       "      <td>103.849998</td>\n",
       "      <td>104.010002</td>\n",
       "      <td>104.680000</td>\n",
       "      <td>6906400.0</td>\n",
       "      <td>102.055313</td>\n",
       "      <td>0.008478</td>\n",
       "    </tr>\n",
       "    <tr>\n",
       "      <th>2019-06-05</th>\n",
       "      <td>106.750000</td>\n",
       "      <td>104.889999</td>\n",
       "      <td>105.239998</td>\n",
       "      <td>106.730003</td>\n",
       "      <td>6481700.0</td>\n",
       "      <td>104.053909</td>\n",
       "      <td>0.019583</td>\n",
       "    </tr>\n",
       "    <tr>\n",
       "      <th>2019-06-06</th>\n",
       "      <td>107.680000</td>\n",
       "      <td>106.330002</td>\n",
       "      <td>106.849998</td>\n",
       "      <td>107.379997</td>\n",
       "      <td>6681600.0</td>\n",
       "      <td>104.687607</td>\n",
       "      <td>0.006090</td>\n",
       "    </tr>\n",
       "    <tr>\n",
       "      <th>2019-06-07</th>\n",
       "      <td>109.379997</td>\n",
       "      <td>107.739998</td>\n",
       "      <td>107.739998</td>\n",
       "      <td>108.769997</td>\n",
       "      <td>8063400.0</td>\n",
       "      <td>106.042755</td>\n",
       "      <td>0.012945</td>\n",
       "    </tr>\n",
       "  </tbody>\n",
       "</table>\n",
       "</div>"
      ],
      "text/plain": [
       "                  High         Low        Open       Close     Volume  \\\n",
       "Date                                                                    \n",
       "2019-06-03  103.959999  102.400002  103.150002  103.800003  8532900.0   \n",
       "2019-06-04  105.099998  103.849998  104.010002  104.680000  6906400.0   \n",
       "2019-06-05  106.750000  104.889999  105.239998  106.730003  6481700.0   \n",
       "2019-06-06  107.680000  106.330002  106.849998  107.379997  6681600.0   \n",
       "2019-06-07  109.379997  107.739998  107.739998  108.769997  8063400.0   \n",
       "\n",
       "             Adj Close  simple_return  \n",
       "Date                                   \n",
       "2019-06-03  101.197372            NaN  \n",
       "2019-06-04  102.055313       0.008478  \n",
       "2019-06-05  104.053909       0.019583  \n",
       "2019-06-06  104.687607       0.006090  \n",
       "2019-06-07  106.042755       0.012945  "
      ]
     },
     "execution_count": 16,
     "metadata": {},
     "output_type": "execute_result"
    }
   ],
   "source": [
    "PG.head()"
   ]
  },
  {
   "cell_type": "code",
   "execution_count": 17,
   "metadata": {},
   "outputs": [],
   "source": [
    "#log returns = ln(102.055/101.197)\n"
   ]
  },
  {
   "cell_type": "code",
   "execution_count": 18,
   "metadata": {},
   "outputs": [],
   "source": [
    "PG['log_returns'] = np.log((PG['Adj Close'])/PG['Adj Close'].shift(1))"
   ]
  },
  {
   "cell_type": "code",
   "execution_count": 19,
   "metadata": {},
   "outputs": [
    {
     "data": {
      "text/html": [
       "<div>\n",
       "<style scoped>\n",
       "    .dataframe tbody tr th:only-of-type {\n",
       "        vertical-align: middle;\n",
       "    }\n",
       "\n",
       "    .dataframe tbody tr th {\n",
       "        vertical-align: top;\n",
       "    }\n",
       "\n",
       "    .dataframe thead th {\n",
       "        text-align: right;\n",
       "    }\n",
       "</style>\n",
       "<table border=\"1\" class=\"dataframe\">\n",
       "  <thead>\n",
       "    <tr style=\"text-align: right;\">\n",
       "      <th></th>\n",
       "      <th>High</th>\n",
       "      <th>Low</th>\n",
       "      <th>Open</th>\n",
       "      <th>Close</th>\n",
       "      <th>Volume</th>\n",
       "      <th>Adj Close</th>\n",
       "      <th>simple_return</th>\n",
       "      <th>log_returns</th>\n",
       "    </tr>\n",
       "    <tr>\n",
       "      <th>Date</th>\n",
       "      <th></th>\n",
       "      <th></th>\n",
       "      <th></th>\n",
       "      <th></th>\n",
       "      <th></th>\n",
       "      <th></th>\n",
       "      <th></th>\n",
       "      <th></th>\n",
       "    </tr>\n",
       "  </thead>\n",
       "  <tbody>\n",
       "    <tr>\n",
       "      <th>2019-06-03</th>\n",
       "      <td>103.959999</td>\n",
       "      <td>102.400002</td>\n",
       "      <td>103.150002</td>\n",
       "      <td>103.800003</td>\n",
       "      <td>8532900.0</td>\n",
       "      <td>101.197372</td>\n",
       "      <td>NaN</td>\n",
       "      <td>NaN</td>\n",
       "    </tr>\n",
       "    <tr>\n",
       "      <th>2019-06-04</th>\n",
       "      <td>105.099998</td>\n",
       "      <td>103.849998</td>\n",
       "      <td>104.010002</td>\n",
       "      <td>104.680000</td>\n",
       "      <td>6906400.0</td>\n",
       "      <td>102.055313</td>\n",
       "      <td>0.008478</td>\n",
       "      <td>0.008442</td>\n",
       "    </tr>\n",
       "    <tr>\n",
       "      <th>2019-06-05</th>\n",
       "      <td>106.750000</td>\n",
       "      <td>104.889999</td>\n",
       "      <td>105.239998</td>\n",
       "      <td>106.730003</td>\n",
       "      <td>6481700.0</td>\n",
       "      <td>104.053909</td>\n",
       "      <td>0.019583</td>\n",
       "      <td>0.019394</td>\n",
       "    </tr>\n",
       "    <tr>\n",
       "      <th>2019-06-06</th>\n",
       "      <td>107.680000</td>\n",
       "      <td>106.330002</td>\n",
       "      <td>106.849998</td>\n",
       "      <td>107.379997</td>\n",
       "      <td>6681600.0</td>\n",
       "      <td>104.687607</td>\n",
       "      <td>0.006090</td>\n",
       "      <td>0.006072</td>\n",
       "    </tr>\n",
       "    <tr>\n",
       "      <th>2019-06-07</th>\n",
       "      <td>109.379997</td>\n",
       "      <td>107.739998</td>\n",
       "      <td>107.739998</td>\n",
       "      <td>108.769997</td>\n",
       "      <td>8063400.0</td>\n",
       "      <td>106.042755</td>\n",
       "      <td>0.012945</td>\n",
       "      <td>0.012862</td>\n",
       "    </tr>\n",
       "  </tbody>\n",
       "</table>\n",
       "</div>"
      ],
      "text/plain": [
       "                  High         Low        Open       Close     Volume  \\\n",
       "Date                                                                    \n",
       "2019-06-03  103.959999  102.400002  103.150002  103.800003  8532900.0   \n",
       "2019-06-04  105.099998  103.849998  104.010002  104.680000  6906400.0   \n",
       "2019-06-05  106.750000  104.889999  105.239998  106.730003  6481700.0   \n",
       "2019-06-06  107.680000  106.330002  106.849998  107.379997  6681600.0   \n",
       "2019-06-07  109.379997  107.739998  107.739998  108.769997  8063400.0   \n",
       "\n",
       "             Adj Close  simple_return  log_returns  \n",
       "Date                                                \n",
       "2019-06-03  101.197372            NaN          NaN  \n",
       "2019-06-04  102.055313       0.008478     0.008442  \n",
       "2019-06-05  104.053909       0.019583     0.019394  \n",
       "2019-06-06  104.687607       0.006090     0.006072  \n",
       "2019-06-07  106.042755       0.012945     0.012862  "
      ]
     },
     "execution_count": 19,
     "metadata": {},
     "output_type": "execute_result"
    }
   ],
   "source": [
    "PG.head()"
   ]
  },
  {
   "cell_type": "code",
   "execution_count": 20,
   "metadata": {},
   "outputs": [
    {
     "name": "stdout",
     "output_type": "stream",
     "text": [
      "Date\n",
      "2019-06-03         NaN\n",
      "2019-06-04    0.008442\n",
      "2019-06-05    0.019394\n",
      "2019-06-06    0.006072\n",
      "2019-06-07    0.012862\n",
      "                ...   \n",
      "2020-06-15    0.009212\n",
      "2020-06-16    0.012265\n",
      "2020-06-17   -0.001694\n",
      "2020-06-18    0.011382\n",
      "2020-06-19   -0.003023\n",
      "Name: log_returns, Length: 266, dtype: float64\n"
     ]
    }
   ],
   "source": [
    "print (PG['log_returns'])"
   ]
  },
  {
   "cell_type": "code",
   "execution_count": 21,
   "metadata": {},
   "outputs": [
    {
     "data": {
      "image/png": "[encoded data removed]",
      "text/plain": [
       "<Figure size 648x576 with 1 Axes>"
      ]
     },
     "metadata": {
      "needs_background": "light"
     },
     "output_type": "display_data"
    }
   ],
   "source": [
    "PG['log_returns'].plot(figsize=(9,8))\n",
    "plt.show()"
   ]
  },
  {
   "cell_type": "code",
   "execution_count": 22,
   "metadata": {},
   "outputs": [
    {
     "data": {
      "text/plain": [
       "0.0006089743029517538"
      ]
     },
     "execution_count": 22,
     "metadata": {},
     "output_type": "execute_result"
    }
   ],
   "source": [
    "log_returns_d = PG['log_returns'].mean()#avg daily log returns\n",
    "log_returns_d"
   ]
  },
  {
   "cell_type": "code",
   "execution_count": 23,
   "metadata": {},
   "outputs": [],
   "source": [
    "log_returns_a = PG[\"log_returns\"].mean()*250"
   ]
  },
  {
   "cell_type": "code",
   "execution_count": 24,
   "metadata": {},
   "outputs": [
    {
     "data": {
      "text/plain": [
       "0.15224357573793845"
      ]
     },
     "execution_count": 24,
     "metadata": {},
     "output_type": "execute_result"
    }
   ],
   "source": [
    "log_returns_a"
   ]
  },
  {
   "cell_type": "code",
   "execution_count": 25,
   "metadata": {},
   "outputs": [
    {
     "data": {
      "text/plain": [
       "15.223999999999998"
      ]
     },
     "execution_count": 25,
     "metadata": {},
     "output_type": "execute_result"
    }
   ],
   "source": [
    "round(log_returns_a,5)*100"
   ]
  },
  {
   "cell_type": "code",
   "execution_count": 26,
   "metadata": {},
   "outputs": [
    {
     "name": "stdout",
     "output_type": "stream",
     "text": [
      "15.22%\n"
     ]
    }
   ],
   "source": [
    "print (str(round(log_returns_a, 4)*100) + '%')"
   ]
  },
  {
   "cell_type": "markdown",
   "metadata": {},
   "source": [
    "# Calculating portfolio returns\n"
   ]
  },
  {
   "cell_type": "code",
   "execution_count": 27,
   "metadata": {},
   "outputs": [],
   "source": [
    "#portfolio is collection of stocks\n",
    "#airtel avr annual rate of returns = 0.19\n",
    "#jio avr annual rate of returns = 0.31\n",
    "#idea avr annual rate of returns = 0.45\n",
    "#bsnl avr annual rate of returns = 0.38\n",
    "\n",
    "#assume equal weights to each stock(i.e. 25%)\n",
    "\n",
    "#portfolio rate of return = 0.19*25%+0.31*25%+0.45*25%+0.38*25%\n",
    "#if weights are different?"
   ]
  },
  {
   "cell_type": "code",
   "execution_count": 28,
   "metadata": {},
   "outputs": [],
   "source": [
    "import numpy as np\n",
    "import pandas as pd\n",
    "from pandas_datareader import data as wb\n",
    "import matplotlib.pyplot as plt"
   ]
  },
  {
   "cell_type": "code",
   "execution_count": 29,
   "metadata": {},
   "outputs": [],
   "source": [
    "tickers = ['PG', 'MSFT', 'F', 'GE']"
   ]
  },
  {
   "cell_type": "code",
   "execution_count": 30,
   "metadata": {},
   "outputs": [],
   "source": [
    "mydata = pd.DataFrame()"
   ]
  },
  {
   "cell_type": "code",
   "execution_count": 31,
   "metadata": {},
   "outputs": [],
   "source": [
    "for t in tickers:\n",
    "    mydata[t]= wb.DataReader(t, data_source = 'yahoo', start='2019-06-03')['Adj Close']\n",
    "    \n"
   ]
  },
  {
   "cell_type": "code",
   "execution_count": 32,
   "metadata": {},
   "outputs": [
    {
     "name": "stdout",
     "output_type": "stream",
     "text": [
      "<class 'pandas.core.frame.DataFrame'>\n",
      "DatetimeIndex: 266 entries, 2019-06-03 to 2020-06-19\n",
      "Data columns (total 4 columns):\n",
      " #   Column  Non-Null Count  Dtype  \n",
      "---  ------  --------------  -----  \n",
      " 0   PG      266 non-null    float64\n",
      " 1   MSFT    266 non-null    float64\n",
      " 2   F       266 non-null    float64\n",
      " 3   GE      266 non-null    float64\n",
      "dtypes: float64(4)\n",
      "memory usage: 10.4 KB\n"
     ]
    }
   ],
   "source": [
    "mydata.info()"
   ]
  },
  {
   "cell_type": "code",
   "execution_count": 33,
   "metadata": {},
   "outputs": [
    {
     "data": {
      "text/html": [
       "<div>\n",
       "<style scoped>\n",
       "    .dataframe tbody tr th:only-of-type {\n",
       "        vertical-align: middle;\n",
       "    }\n",
       "\n",
       "    .dataframe tbody tr th {\n",
       "        vertical-align: top;\n",
       "    }\n",
       "\n",
       "    .dataframe thead th {\n",
       "        text-align: right;\n",
       "    }\n",
       "</style>\n",
       "<table border=\"1\" class=\"dataframe\">\n",
       "  <thead>\n",
       "    <tr style=\"text-align: right;\">\n",
       "      <th></th>\n",
       "      <th>PG</th>\n",
       "      <th>MSFT</th>\n",
       "      <th>F</th>\n",
       "      <th>GE</th>\n",
       "    </tr>\n",
       "    <tr>\n",
       "      <th>Date</th>\n",
       "      <th></th>\n",
       "      <th></th>\n",
       "      <th></th>\n",
       "      <th></th>\n",
       "    </tr>\n",
       "  </thead>\n",
       "  <tbody>\n",
       "    <tr>\n",
       "      <th>2019-06-03</th>\n",
       "      <td>101.197548</td>\n",
       "      <td>118.383247</td>\n",
       "      <td>9.160008</td>\n",
       "      <td>9.492513</td>\n",
       "    </tr>\n",
       "    <tr>\n",
       "      <th>2019-06-04</th>\n",
       "      <td>102.055473</td>\n",
       "      <td>121.662903</td>\n",
       "      <td>9.455493</td>\n",
       "      <td>9.960665</td>\n",
       "    </tr>\n",
       "    <tr>\n",
       "      <th>2019-06-05</th>\n",
       "      <td>104.054092</td>\n",
       "      <td>124.300446</td>\n",
       "      <td>9.322048</td>\n",
       "      <td>9.851098</td>\n",
       "    </tr>\n",
       "    <tr>\n",
       "      <th>2019-06-06</th>\n",
       "      <td>104.687782</td>\n",
       "      <td>126.266251</td>\n",
       "      <td>9.293454</td>\n",
       "      <td>9.880980</td>\n",
       "    </tr>\n",
       "    <tr>\n",
       "      <th>2019-06-07</th>\n",
       "      <td>106.042923</td>\n",
       "      <td>129.802719</td>\n",
       "      <td>9.302985</td>\n",
       "      <td>9.940742</td>\n",
       "    </tr>\n",
       "  </tbody>\n",
       "</table>\n",
       "</div>"
      ],
      "text/plain": [
       "                    PG        MSFT         F        GE\n",
       "Date                                                  \n",
       "2019-06-03  101.197548  118.383247  9.160008  9.492513\n",
       "2019-06-04  102.055473  121.662903  9.455493  9.960665\n",
       "2019-06-05  104.054092  124.300446  9.322048  9.851098\n",
       "2019-06-06  104.687782  126.266251  9.293454  9.880980\n",
       "2019-06-07  106.042923  129.802719  9.302985  9.940742"
      ]
     },
     "execution_count": 33,
     "metadata": {},
     "output_type": "execute_result"
    }
   ],
   "source": [
    "mydata.head()"
   ]
  },
  {
   "cell_type": "markdown",
   "metadata": {},
   "source": [
    "# Normalization"
   ]
  },
  {
   "cell_type": "code",
   "execution_count": 34,
   "metadata": {},
   "outputs": [],
   "source": [
    "#(Pt/P0)*100# normalization to 100"
   ]
  },
  {
   "cell_type": "code",
   "execution_count": 35,
   "metadata": {},
   "outputs": [
    {
     "data": {
      "text/plain": [
       "PG      101.197548\n",
       "MSFT    118.383247\n",
       "F         9.160008\n",
       "GE        9.492513\n",
       "Name: 2019-06-03 00:00:00, dtype: float64"
      ]
     },
     "execution_count": 35,
     "metadata": {},
     "output_type": "execute_result"
    }
   ],
   "source": [
    "mydata.iloc[0]"
   ]
  },
  {
   "cell_type": "code",
   "execution_count": 36,
   "metadata": {},
   "outputs": [
    {
     "data": {
      "text/html": [
       "<div>\n",
       "<style scoped>\n",
       "    .dataframe tbody tr th:only-of-type {\n",
       "        vertical-align: middle;\n",
       "    }\n",
       "\n",
       "    .dataframe tbody tr th {\n",
       "        vertical-align: top;\n",
       "    }\n",
       "\n",
       "    .dataframe thead th {\n",
       "        text-align: right;\n",
       "    }\n",
       "</style>\n",
       "<table border=\"1\" class=\"dataframe\">\n",
       "  <thead>\n",
       "    <tr style=\"text-align: right;\">\n",
       "      <th></th>\n",
       "      <th>PG</th>\n",
       "      <th>MSFT</th>\n",
       "      <th>F</th>\n",
       "      <th>GE</th>\n",
       "    </tr>\n",
       "    <tr>\n",
       "      <th>Date</th>\n",
       "      <th></th>\n",
       "      <th></th>\n",
       "      <th></th>\n",
       "      <th></th>\n",
       "    </tr>\n",
       "  </thead>\n",
       "  <tbody>\n",
       "    <tr>\n",
       "      <th>2019-06-03</th>\n",
       "      <td>1.000000</td>\n",
       "      <td>1.000000</td>\n",
       "      <td>1.000000</td>\n",
       "      <td>1.000000</td>\n",
       "    </tr>\n",
       "    <tr>\n",
       "      <th>2019-06-04</th>\n",
       "      <td>1.008478</td>\n",
       "      <td>1.027704</td>\n",
       "      <td>1.032258</td>\n",
       "      <td>1.049318</td>\n",
       "    </tr>\n",
       "    <tr>\n",
       "      <th>2019-06-05</th>\n",
       "      <td>1.028227</td>\n",
       "      <td>1.049983</td>\n",
       "      <td>1.017690</td>\n",
       "      <td>1.037776</td>\n",
       "    </tr>\n",
       "    <tr>\n",
       "      <th>2019-06-06</th>\n",
       "      <td>1.034489</td>\n",
       "      <td>1.066589</td>\n",
       "      <td>1.014568</td>\n",
       "      <td>1.040923</td>\n",
       "    </tr>\n",
       "    <tr>\n",
       "      <th>2019-06-07</th>\n",
       "      <td>1.047880</td>\n",
       "      <td>1.096462</td>\n",
       "      <td>1.015609</td>\n",
       "      <td>1.047219</td>\n",
       "    </tr>\n",
       "    <tr>\n",
       "      <th>...</th>\n",
       "      <td>...</td>\n",
       "      <td>...</td>\n",
       "      <td>...</td>\n",
       "      <td>...</td>\n",
       "    </tr>\n",
       "    <tr>\n",
       "      <th>2020-06-15</th>\n",
       "      <td>1.153091</td>\n",
       "      <td>1.596003</td>\n",
       "      <td>0.709606</td>\n",
       "      <td>0.762706</td>\n",
       "    </tr>\n",
       "    <tr>\n",
       "      <th>2020-06-16</th>\n",
       "      <td>1.167321</td>\n",
       "      <td>1.635113</td>\n",
       "      <td>0.715065</td>\n",
       "      <td>0.786936</td>\n",
       "    </tr>\n",
       "    <tr>\n",
       "      <th>2020-06-17</th>\n",
       "      <td>1.165344</td>\n",
       "      <td>1.640773</td>\n",
       "      <td>0.691047</td>\n",
       "      <td>0.762706</td>\n",
       "    </tr>\n",
       "    <tr>\n",
       "      <th>2020-06-18</th>\n",
       "      <td>1.178685</td>\n",
       "      <td>1.658343</td>\n",
       "      <td>0.691047</td>\n",
       "      <td>0.766920</td>\n",
       "    </tr>\n",
       "    <tr>\n",
       "      <th>2020-06-19</th>\n",
       "      <td>1.175127</td>\n",
       "      <td>1.648460</td>\n",
       "      <td>0.680130</td>\n",
       "      <td>0.753225</td>\n",
       "    </tr>\n",
       "  </tbody>\n",
       "</table>\n",
       "<p>266 rows × 4 columns</p>\n",
       "</div>"
      ],
      "text/plain": [
       "                  PG      MSFT         F        GE\n",
       "Date                                              \n",
       "2019-06-03  1.000000  1.000000  1.000000  1.000000\n",
       "2019-06-04  1.008478  1.027704  1.032258  1.049318\n",
       "2019-06-05  1.028227  1.049983  1.017690  1.037776\n",
       "2019-06-06  1.034489  1.066589  1.014568  1.040923\n",
       "2019-06-07  1.047880  1.096462  1.015609  1.047219\n",
       "...              ...       ...       ...       ...\n",
       "2020-06-15  1.153091  1.596003  0.709606  0.762706\n",
       "2020-06-16  1.167321  1.635113  0.715065  0.786936\n",
       "2020-06-17  1.165344  1.640773  0.691047  0.762706\n",
       "2020-06-18  1.178685  1.658343  0.691047  0.766920\n",
       "2020-06-19  1.175127  1.648460  0.680130  0.753225\n",
       "\n",
       "[266 rows x 4 columns]"
      ]
     },
     "execution_count": 36,
     "metadata": {},
     "output_type": "execute_result"
    }
   ],
   "source": [
    "mydata/mydata.iloc[0]# first row always will be 1 since P0/P0*100=1.00"
   ]
  },
  {
   "cell_type": "code",
   "execution_count": 37,
   "metadata": {},
   "outputs": [
    {
     "data": {
      "image/png": "[encoded data removed]",
      "text/plain": [
       "<Figure size 576x360 with 1 Axes>"
      ]
     },
     "metadata": {
      "needs_background": "light"
     },
     "output_type": "display_data"
    }
   ],
   "source": [
    "(mydata/mydata.iloc[0]*100).plot(figsize=(8,5))\n",
    "plt.show()"
   ]
  },
  {
   "cell_type": "code",
   "execution_count": 38,
   "metadata": {},
   "outputs": [],
   "source": [
    "#interpretation=microsoft MSFT has highest adj close"
   ]
  },
  {
   "cell_type": "code",
   "execution_count": 39,
   "metadata": {},
   "outputs": [],
   "source": [
    "#we can now compare behavior of 4 stock as if they start from same value 100"
   ]
  },
  {
   "cell_type": "code",
   "execution_count": 40,
   "metadata": {},
   "outputs": [
    {
     "data": {
      "image/png": "[encoded data removed]",
      "text/plain": [
       "<Figure size 576x360 with 1 Axes>"
      ]
     },
     "metadata": {
      "needs_background": "light"
     },
     "output_type": "display_data"
    }
   ],
   "source": [
    "#if we dont normalize and directly plot then\n",
    "mydata.plot(figsize=(8,5))\n",
    "plt.show()# starting point is different hence not comparable hence normalization is very imp"
   ]
  },
  {
   "cell_type": "code",
   "execution_count": 41,
   "metadata": {},
   "outputs": [
    {
     "data": {
      "text/plain": [
       "PG      101.197548\n",
       "MSFT    118.383247\n",
       "F         9.160008\n",
       "GE        9.492513\n",
       "Name: 2019-06-03 00:00:00, dtype: float64"
      ]
     },
     "execution_count": 41,
     "metadata": {},
     "output_type": "execute_result"
    }
   ],
   "source": [
    "mydata.loc['2019-06-03']"
   ]
  },
  {
   "cell_type": "code",
   "execution_count": 42,
   "metadata": {},
   "outputs": [
    {
     "data": {
      "text/plain": [
       "PG      101.197548\n",
       "MSFT    118.383247\n",
       "F         9.160008\n",
       "GE        9.492513\n",
       "Name: 2019-06-03 00:00:00, dtype: float64"
      ]
     },
     "execution_count": 42,
     "metadata": {},
     "output_type": "execute_result"
    }
   ],
   "source": [
    "mydata.iloc[0]"
   ]
  },
  {
   "cell_type": "code",
   "execution_count": 43,
   "metadata": {},
   "outputs": [],
   "source": [
    "#above loc and iloc gives same output but loc['lable'] and iloc[position]"
   ]
  },
  {
   "cell_type": "markdown",
   "metadata": {},
   "source": [
    "# Calculating the return of portfolio of securities"
   ]
  },
  {
   "cell_type": "code",
   "execution_count": 44,
   "metadata": {},
   "outputs": [
    {
     "data": {
      "text/html": [
       "<div>\n",
       "<style scoped>\n",
       "    .dataframe tbody tr th:only-of-type {\n",
       "        vertical-align: middle;\n",
       "    }\n",
       "\n",
       "    .dataframe tbody tr th {\n",
       "        vertical-align: top;\n",
       "    }\n",
       "\n",
       "    .dataframe thead th {\n",
       "        text-align: right;\n",
       "    }\n",
       "</style>\n",
       "<table border=\"1\" class=\"dataframe\">\n",
       "  <thead>\n",
       "    <tr style=\"text-align: right;\">\n",
       "      <th></th>\n",
       "      <th>PG</th>\n",
       "      <th>MSFT</th>\n",
       "      <th>F</th>\n",
       "      <th>GE</th>\n",
       "    </tr>\n",
       "    <tr>\n",
       "      <th>Date</th>\n",
       "      <th></th>\n",
       "      <th></th>\n",
       "      <th></th>\n",
       "      <th></th>\n",
       "    </tr>\n",
       "  </thead>\n",
       "  <tbody>\n",
       "    <tr>\n",
       "      <th>2019-06-03</th>\n",
       "      <td>101.197548</td>\n",
       "      <td>118.383247</td>\n",
       "      <td>9.160008</td>\n",
       "      <td>9.492513</td>\n",
       "    </tr>\n",
       "    <tr>\n",
       "      <th>2019-06-04</th>\n",
       "      <td>102.055473</td>\n",
       "      <td>121.662903</td>\n",
       "      <td>9.455493</td>\n",
       "      <td>9.960665</td>\n",
       "    </tr>\n",
       "    <tr>\n",
       "      <th>2019-06-05</th>\n",
       "      <td>104.054092</td>\n",
       "      <td>124.300446</td>\n",
       "      <td>9.322048</td>\n",
       "      <td>9.851098</td>\n",
       "    </tr>\n",
       "    <tr>\n",
       "      <th>2019-06-06</th>\n",
       "      <td>104.687782</td>\n",
       "      <td>126.266251</td>\n",
       "      <td>9.293454</td>\n",
       "      <td>9.880980</td>\n",
       "    </tr>\n",
       "    <tr>\n",
       "      <th>2019-06-07</th>\n",
       "      <td>106.042923</td>\n",
       "      <td>129.802719</td>\n",
       "      <td>9.302985</td>\n",
       "      <td>9.940742</td>\n",
       "    </tr>\n",
       "  </tbody>\n",
       "</table>\n",
       "</div>"
      ],
      "text/plain": [
       "                    PG        MSFT         F        GE\n",
       "Date                                                  \n",
       "2019-06-03  101.197548  118.383247  9.160008  9.492513\n",
       "2019-06-04  102.055473  121.662903  9.455493  9.960665\n",
       "2019-06-05  104.054092  124.300446  9.322048  9.851098\n",
       "2019-06-06  104.687782  126.266251  9.293454  9.880980\n",
       "2019-06-07  106.042923  129.802719  9.302985  9.940742"
      ]
     },
     "execution_count": 44,
     "metadata": {},
     "output_type": "execute_result"
    }
   ],
   "source": [
    "mydata.head()"
   ]
  },
  {
   "cell_type": "code",
   "execution_count": 45,
   "metadata": {},
   "outputs": [],
   "source": [
    "returns = (mydata/mydata.shift(1))-1"
   ]
  },
  {
   "cell_type": "code",
   "execution_count": 46,
   "metadata": {},
   "outputs": [
    {
     "data": {
      "text/html": [
       "<div>\n",
       "<style scoped>\n",
       "    .dataframe tbody tr th:only-of-type {\n",
       "        vertical-align: middle;\n",
       "    }\n",
       "\n",
       "    .dataframe tbody tr th {\n",
       "        vertical-align: top;\n",
       "    }\n",
       "\n",
       "    .dataframe thead th {\n",
       "        text-align: right;\n",
       "    }\n",
       "</style>\n",
       "<table border=\"1\" class=\"dataframe\">\n",
       "  <thead>\n",
       "    <tr style=\"text-align: right;\">\n",
       "      <th></th>\n",
       "      <th>PG</th>\n",
       "      <th>MSFT</th>\n",
       "      <th>F</th>\n",
       "      <th>GE</th>\n",
       "    </tr>\n",
       "    <tr>\n",
       "      <th>Date</th>\n",
       "      <th></th>\n",
       "      <th></th>\n",
       "      <th></th>\n",
       "      <th></th>\n",
       "    </tr>\n",
       "  </thead>\n",
       "  <tbody>\n",
       "    <tr>\n",
       "      <th>2019-06-03</th>\n",
       "      <td>NaN</td>\n",
       "      <td>NaN</td>\n",
       "      <td>NaN</td>\n",
       "      <td>NaN</td>\n",
       "    </tr>\n",
       "    <tr>\n",
       "      <th>2019-06-04</th>\n",
       "      <td>0.008478</td>\n",
       "      <td>0.027704</td>\n",
       "      <td>0.032258</td>\n",
       "      <td>0.049318</td>\n",
       "    </tr>\n",
       "    <tr>\n",
       "      <th>2019-06-05</th>\n",
       "      <td>0.019584</td>\n",
       "      <td>0.021679</td>\n",
       "      <td>-0.014113</td>\n",
       "      <td>-0.011000</td>\n",
       "    </tr>\n",
       "    <tr>\n",
       "      <th>2019-06-06</th>\n",
       "      <td>0.006090</td>\n",
       "      <td>0.015815</td>\n",
       "      <td>-0.003067</td>\n",
       "      <td>0.003033</td>\n",
       "    </tr>\n",
       "    <tr>\n",
       "      <th>2019-06-07</th>\n",
       "      <td>0.012945</td>\n",
       "      <td>0.028008</td>\n",
       "      <td>0.001026</td>\n",
       "      <td>0.006048</td>\n",
       "    </tr>\n",
       "  </tbody>\n",
       "</table>\n",
       "</div>"
      ],
      "text/plain": [
       "                  PG      MSFT         F        GE\n",
       "Date                                              \n",
       "2019-06-03       NaN       NaN       NaN       NaN\n",
       "2019-06-04  0.008478  0.027704  0.032258  0.049318\n",
       "2019-06-05  0.019584  0.021679 -0.014113 -0.011000\n",
       "2019-06-06  0.006090  0.015815 -0.003067  0.003033\n",
       "2019-06-07  0.012945  0.028008  0.001026  0.006048"
      ]
     },
     "execution_count": 46,
     "metadata": {},
     "output_type": "execute_result"
    }
   ],
   "source": [
    "returns.head()"
   ]
  },
  {
   "cell_type": "code",
   "execution_count": 47,
   "metadata": {},
   "outputs": [],
   "source": [
    "weights=np.array([0.25, 0.25, 0.25, 0.25])"
   ]
  },
  {
   "cell_type": "code",
   "execution_count": 48,
   "metadata": {
    "scrolled": true
   },
   "outputs": [
    {
     "data": {
      "text/plain": [
       "array([0.25, 0.25, 0.25, 0.25])"
      ]
     },
     "execution_count": 48,
     "metadata": {},
     "output_type": "execute_result"
    }
   ],
   "source": [
    "weights"
   ]
  },
  {
   "cell_type": "code",
   "execution_count": 49,
   "metadata": {},
   "outputs": [
    {
     "data": {
      "text/html": [
       "<div>\n",
       "<style scoped>\n",
       "    .dataframe tbody tr th:only-of-type {\n",
       "        vertical-align: middle;\n",
       "    }\n",
       "\n",
       "    .dataframe tbody tr th {\n",
       "        vertical-align: top;\n",
       "    }\n",
       "\n",
       "    .dataframe thead th {\n",
       "        text-align: right;\n",
       "    }\n",
       "</style>\n",
       "<table border=\"1\" class=\"dataframe\">\n",
       "  <thead>\n",
       "    <tr style=\"text-align: right;\">\n",
       "      <th></th>\n",
       "      <th>PG</th>\n",
       "      <th>MSFT</th>\n",
       "      <th>F</th>\n",
       "      <th>GE</th>\n",
       "    </tr>\n",
       "  </thead>\n",
       "  <tbody>\n",
       "    <tr>\n",
       "      <th>count</th>\n",
       "      <td>265.000000</td>\n",
       "      <td>265.000000</td>\n",
       "      <td>265.000000</td>\n",
       "      <td>265.000000</td>\n",
       "    </tr>\n",
       "    <tr>\n",
       "      <th>mean</th>\n",
       "      <td>0.000816</td>\n",
       "      <td>0.002197</td>\n",
       "      <td>-0.000924</td>\n",
       "      <td>-0.000350</td>\n",
       "    </tr>\n",
       "    <tr>\n",
       "      <th>std</th>\n",
       "      <td>0.020439</td>\n",
       "      <td>0.024854</td>\n",
       "      <td>0.032896</td>\n",
       "      <td>0.037961</td>\n",
       "    </tr>\n",
       "    <tr>\n",
       "      <th>min</th>\n",
       "      <td>-0.087373</td>\n",
       "      <td>-0.147390</td>\n",
       "      <td>-0.110124</td>\n",
       "      <td>-0.151592</td>\n",
       "    </tr>\n",
       "    <tr>\n",
       "      <th>25%</th>\n",
       "      <td>-0.005818</td>\n",
       "      <td>-0.007240</td>\n",
       "      <td>-0.011752</td>\n",
       "      <td>-0.015898</td>\n",
       "    </tr>\n",
       "    <tr>\n",
       "      <th>50%</th>\n",
       "      <td>0.001625</td>\n",
       "      <td>0.002241</td>\n",
       "      <td>-0.001081</td>\n",
       "      <td>-0.002512</td>\n",
       "    </tr>\n",
       "    <tr>\n",
       "      <th>75%</th>\n",
       "      <td>0.008683</td>\n",
       "      <td>0.011154</td>\n",
       "      <td>0.008999</td>\n",
       "      <td>0.014202</td>\n",
       "    </tr>\n",
       "    <tr>\n",
       "      <th>max</th>\n",
       "      <td>0.120090</td>\n",
       "      <td>0.142169</td>\n",
       "      <td>0.234414</td>\n",
       "      <td>0.147300</td>\n",
       "    </tr>\n",
       "  </tbody>\n",
       "</table>\n",
       "</div>"
      ],
      "text/plain": [
       "               PG        MSFT           F          GE\n",
       "count  265.000000  265.000000  265.000000  265.000000\n",
       "mean     0.000816    0.002197   -0.000924   -0.000350\n",
       "std      0.020439    0.024854    0.032896    0.037961\n",
       "min     -0.087373   -0.147390   -0.110124   -0.151592\n",
       "25%     -0.005818   -0.007240   -0.011752   -0.015898\n",
       "50%      0.001625    0.002241   -0.001081   -0.002512\n",
       "75%      0.008683    0.011154    0.008999    0.014202\n",
       "max      0.120090    0.142169    0.234414    0.147300"
      ]
     },
     "execution_count": 49,
     "metadata": {},
     "output_type": "execute_result"
    }
   ],
   "source": [
    "returns.describe()"
   ]
  },
  {
   "cell_type": "code",
   "execution_count": 50,
   "metadata": {},
   "outputs": [
    {
     "name": "stdout",
     "output_type": "stream",
     "text": [
      "<class 'pandas.core.frame.DataFrame'>\n",
      "DatetimeIndex: 266 entries, 2019-06-03 to 2020-06-19\n",
      "Data columns (total 4 columns):\n",
      " #   Column  Non-Null Count  Dtype  \n",
      "---  ------  --------------  -----  \n",
      " 0   PG      265 non-null    float64\n",
      " 1   MSFT    265 non-null    float64\n",
      " 2   F       265 non-null    float64\n",
      " 3   GE      265 non-null    float64\n",
      "dtypes: float64(4)\n",
      "memory usage: 20.4 KB\n"
     ]
    }
   ],
   "source": [
    "returns.info()"
   ]
  },
  {
   "cell_type": "code",
   "execution_count": 51,
   "metadata": {},
   "outputs": [],
   "source": [
    "#np.dot() calculates vector and matrix operations."
   ]
  },
  {
   "cell_type": "code",
   "execution_count": 52,
   "metadata": {},
   "outputs": [
    {
     "data": {
      "text/plain": [
       "array([            nan,  2.94393955e-02,  4.03747066e-03,  5.46772826e-03,\n",
       "        1.20066161e-02,  5.45866451e-03,  4.86209294e-03,  1.71972619e-03,\n",
       "        1.04411650e-02, -3.02862654e-03, -2.36245285e-03,  1.16638870e-02,\n",
       "       -5.53758373e-04,  1.23216038e-02, -5.94438931e-03, -1.75311665e-03,\n",
       "       -1.34736045e-02, -5.14688265e-04,  1.10048947e-02,  2.73202261e-03,\n",
       "        6.26527289e-03,  2.92426461e-03,  9.18224960e-03, -5.35737758e-03,\n",
       "       -5.33675361e-03, -3.65664271e-03,  2.44724901e-03,  2.15437068e-03,\n",
       "        1.60259366e-02, -3.01372327e-03,  2.44881729e-03, -1.52849278e-02,\n",
       "        1.11879592e-03, -2.52373134e-03,  7.42928647e-03,  1.29254165e-02,\n",
       "        4.45912144e-03, -2.50512260e-02,  8.57496839e-03, -8.95621667e-05,\n",
       "        1.03687183e-02, -1.43753354e-02, -1.41135234e-02, -5.51133104e-03,\n",
       "       -2.56256194e-02,  1.17846740e-02,  2.25273207e-03,  1.24063269e-02,\n",
       "       -1.53623254e-02, -1.20562545e-02,  1.52821097e-02, -2.62172370e-02,\n",
       "       -2.92333235e-02,  3.55601564e-02,  4.95083876e-03, -1.51633939e-02,\n",
       "       -9.13701507e-04, -4.38773872e-04, -2.65441293e-02,  1.20574894e-02,\n",
       "       -2.31506573e-03,  8.59580482e-03,  1.29541278e-02,  3.25578594e-03,\n",
       "       -4.34968488e-04,  2.35858168e-02,  7.57116102e-03, -4.30948826e-03,\n",
       "        8.26503920e-03, -5.42621721e-03,  8.98964337e-03,  2.72727931e-03,\n",
       "        1.80792699e-03, -9.55172969e-03,  3.81677929e-03,  2.29802840e-03,\n",
       "        2.62329392e-03, -1.59529861e-03,  3.93349351e-04, -1.36392874e-02,\n",
       "        1.01750677e-02, -2.50691671e-03, -3.80674625e-03,  1.41552088e-03,\n",
       "       -2.09139688e-02, -2.10549248e-02,  1.31681666e-02,  4.85913224e-03,\n",
       "       -6.15666302e-03, -1.87406455e-02,  9.60547897e-03,  6.21959750e-03,\n",
       "        1.42951083e-02, -3.51356378e-03,  9.64374223e-03, -1.06333686e-03,\n",
       "        3.42348145e-03,  4.47345437e-04, -2.46991037e-03,  1.15745717e-02,\n",
       "        9.33923459e-03, -1.31984178e-02,  3.21111780e-03,  5.40381077e-03,\n",
       "       -1.24396974e-03,  3.15983673e-02, -4.75509120e-03,  1.80764670e-02,\n",
       "        8.09619471e-03,  9.57898247e-04,  6.61257885e-04,  4.17708292e-03,\n",
       "        1.24244459e-02, -3.09887472e-03,  1.95742208e-03, -5.90592376e-03,\n",
       "        3.94450065e-04,  1.29517085e-02,  1.68055470e-03, -9.66325881e-04,\n",
       "       -5.80896131e-03, -1.72022709e-03,  5.68029087e-03,  6.94074000e-03,\n",
       "        2.65209655e-04,  6.30109421e-04, -2.46857857e-03, -5.49021089e-03,\n",
       "       -7.07054932e-03,  3.75678222e-03, -2.76740811e-03,  1.18743021e-02,\n",
       "       -2.02827709e-03,  5.38624920e-04,  1.92172124e-03,  1.88313812e-02,\n",
       "       -6.88704479e-04,  2.38297698e-03, -3.41463471e-03, -2.27028628e-03,\n",
       "        2.42275463e-03,  5.46968891e-03,  9.74338850e-04,  2.05939908e-03,\n",
       "        2.41481329e-03, -1.30014731e-03, -1.05408039e-02,  4.19456425e-03,\n",
       "        2.21215957e-02, -9.52936085e-03,  3.18622941e-03, -3.22434446e-03,\n",
       "        2.76556033e-03,  5.49987267e-03, -6.22230150e-03,  1.42109922e-02,\n",
       "       -2.64471937e-03, -1.85072555e-03,  3.62326232e-03,  1.16735632e-03,\n",
       "       -3.34118457e-03, -8.34011665e-03,  8.64517034e-03, -7.32293779e-03,\n",
       "       -1.19018799e-02,  1.41623526e-02,  2.88963555e-02,  4.20955825e-03,\n",
       "       -1.23940381e-02,  7.79758578e-03,  2.14214284e-02, -1.61458950e-02,\n",
       "        5.77859986e-03, -8.28939276e-03,  6.73522729e-03, -9.54775838e-03,\n",
       "        9.28842567e-03, -2.17145659e-03, -2.07810268e-03, -2.77470311e-03,\n",
       "       -2.71520532e-03, -2.19434023e-03, -1.76114067e-02, -3.55862318e-02,\n",
       "       -3.05283524e-02, -8.35393355e-03, -5.25784158e-02,  1.68900219e-02,\n",
       "        4.68141569e-02, -3.02319655e-02,  2.81244219e-02, -4.39055457e-02,\n",
       "       -3.29116906e-02, -8.28268140e-02,  6.15104143e-02, -6.23631157e-02,\n",
       "       -9.86996813e-02,  1.00087381e-01, -1.14484174e-01,  5.87923105e-02,\n",
       "       -5.45926037e-02, -1.61899430e-02, -3.46243908e-02, -4.82346982e-02,\n",
       "        1.32405091e-01,  3.37549137e-02,  4.36655825e-02, -2.20208309e-02,\n",
       "        2.96966697e-02, -2.31574881e-02, -6.09940189e-02,  9.52616649e-03,\n",
       "       -1.38567149e-02,  6.01952109e-02, -1.03695987e-02,  3.42600339e-02,\n",
       "        1.04785751e-02, -1.06054325e-02,  2.62662527e-02, -2.98816675e-02,\n",
       "       -6.39049156e-03,  4.19144803e-02, -3.20528942e-02, -2.39406874e-02,\n",
       "        5.97735067e-03,  8.43017256e-03, -7.72516058e-03,  1.86741179e-02,\n",
       "        1.72582494e-02, -2.03966490e-03,  4.47375537e-03, -2.80790059e-02,\n",
       "       -1.03346837e-02,  8.45808449e-03, -1.77103290e-02,  4.83083667e-03,\n",
       "        3.62540736e-02, -8.29102459e-03, -2.18202880e-02, -2.69577720e-02,\n",
       "        5.96166367e-03, -3.29989324e-03,  6.23162014e-02, -1.27040203e-02,\n",
       "        2.27516896e-02,  2.04539439e-03,  4.91448141e-04,  1.97092728e-02,\n",
       "        3.06293738e-02, -2.07528187e-02, -1.14782086e-02,  1.65304580e-02,\n",
       "        1.65737907e-02,  2.48846985e-02,  1.97333040e-02,  4.45830447e-02,\n",
       "        2.79427264e-02, -2.22102672e-02, -1.64755183e-02, -6.62973517e-02,\n",
       "        2.48464917e-02,  5.11471401e-03,  1.90764501e-02, -1.56523523e-02,\n",
       "        6.92019740e-03, -1.06581928e-02])"
      ]
     },
     "execution_count": 52,
     "metadata": {},
     "output_type": "execute_result"
    }
   ],
   "source": [
    "np.dot(returns, weights)#we need annual rate of returns"
   ]
  },
  {
   "cell_type": "code",
   "execution_count": 53,
   "metadata": {},
   "outputs": [
    {
     "data": {
      "text/plain": [
       "PG      0.204095\n",
       "MSFT    0.549145\n",
       "F      -0.230897\n",
       "GE     -0.087519\n",
       "dtype: float64"
      ]
     },
     "execution_count": 53,
     "metadata": {},
     "output_type": "execute_result"
    }
   ],
   "source": [
    "annual_returns = returns.mean() * 250\n",
    "annual_returns"
   ]
  },
  {
   "cell_type": "code",
   "execution_count": 54,
   "metadata": {},
   "outputs": [],
   "source": [
    "#np.dot(annual_returns, weights) 4*1 and 1*4 matrix"
   ]
  },
  {
   "cell_type": "code",
   "execution_count": 55,
   "metadata": {},
   "outputs": [
    {
     "data": {
      "text/plain": [
       "0.10870602082209287"
      ]
     },
     "execution_count": 55,
     "metadata": {},
     "output_type": "execute_result"
    }
   ],
   "source": [
    "np.dot(annual_returns, weights)"
   ]
  },
  {
   "cell_type": "code",
   "execution_count": 56,
   "metadata": {},
   "outputs": [],
   "source": [
    "pfolio_1= str(round(np.dot(annual_returns, weights), 4)*100) + '%'"
   ]
  },
  {
   "cell_type": "code",
   "execution_count": 57,
   "metadata": {},
   "outputs": [
    {
     "name": "stdout",
     "output_type": "stream",
     "text": [
      "10.870000000000001%\n"
     ]
    }
   ],
   "source": [
    "print (pfolio_1)"
   ]
  },
  {
   "cell_type": "code",
   "execution_count": 58,
   "metadata": {},
   "outputs": [
    {
     "data": {
      "text/plain": [
       "array([0.4 , 0.4 , 0.15, 0.05])"
      ]
     },
     "execution_count": 58,
     "metadata": {},
     "output_type": "execute_result"
    }
   ],
   "source": [
    "#for different weights(0.40, 0.40, 0.15, 0.05)\n",
    "weights_2=np.array([0.40,0.40,0.15,0.05])\n",
    "weights_2"
   ]
  },
  {
   "cell_type": "code",
   "execution_count": 59,
   "metadata": {},
   "outputs": [
    {
     "data": {
      "text/plain": [
       "0.2622854878394024"
      ]
     },
     "execution_count": 59,
     "metadata": {},
     "output_type": "execute_result"
    }
   ],
   "source": [
    "np.dot(annual_returns, weights_2)"
   ]
  },
  {
   "cell_type": "code",
   "execution_count": 60,
   "metadata": {},
   "outputs": [
    {
     "data": {
      "text/plain": [
       "'26.229999999999997%'"
      ]
     },
     "execution_count": 60,
     "metadata": {},
     "output_type": "execute_result"
    }
   ],
   "source": [
    "pfolio_2 = str(round(np.dot(annual_returns, weights_2), 4)*100) + '%'\n",
    "pfolio_2"
   ]
  },
  {
   "cell_type": "code",
   "execution_count": 61,
   "metadata": {},
   "outputs": [
    {
     "name": "stdout",
     "output_type": "stream",
     "text": [
      "10.870000000000001%\n",
      "26.229999999999997%\n"
     ]
    }
   ],
   "source": [
    "print(pfolio_1)\n",
    "print(pfolio_2)"
   ]
  },
  {
   "cell_type": "markdown",
   "metadata": {},
   "source": [
    "# Calculating the Return of Indices"
   ]
  },
  {
   "cell_type": "code",
   "execution_count": 62,
   "metadata": {},
   "outputs": [],
   "source": [
    "import numpy as np\n",
    "import pandas as pd\n",
    "from pandas_datareader import data as wb\n",
    "import matplotlib.pyplot as plt"
   ]
  },
  {
   "cell_type": "code",
   "execution_count": 63,
   "metadata": {},
   "outputs": [],
   "source": [
    "#GSPC=S&P500\n",
    "#IXIC=Nasdaq\n",
    "#GDAXI=German stock index\n",
    "#FTSE=Financial Times Stock Exchange(London Index)"
   ]
  },
  {
   "cell_type": "code",
   "execution_count": 64,
   "metadata": {},
   "outputs": [],
   "source": [
    "tickers=['^GSPC', '^IXIC', '^GDAXI']"
   ]
  },
  {
   "cell_type": "code",
   "execution_count": 65,
   "metadata": {},
   "outputs": [],
   "source": [
    "ind_data = pd.DataFrame()\n",
    "\n",
    "\n"
   ]
  },
  {
   "cell_type": "code",
   "execution_count": 66,
   "metadata": {},
   "outputs": [],
   "source": [
    "for t in tickers:\n",
    "    ind_data[t] = wb.DataReader(t, data_source='yahoo', start='2007-1-1')['Adj Close']\n"
   ]
  },
  {
   "cell_type": "code",
   "execution_count": 67,
   "metadata": {},
   "outputs": [
    {
     "data": {
      "text/html": [
       "<div>\n",
       "<style scoped>\n",
       "    .dataframe tbody tr th:only-of-type {\n",
       "        vertical-align: middle;\n",
       "    }\n",
       "\n",
       "    .dataframe tbody tr th {\n",
       "        vertical-align: top;\n",
       "    }\n",
       "\n",
       "    .dataframe thead th {\n",
       "        text-align: right;\n",
       "    }\n",
       "</style>\n",
       "<table border=\"1\" class=\"dataframe\">\n",
       "  <thead>\n",
       "    <tr style=\"text-align: right;\">\n",
       "      <th></th>\n",
       "      <th>^GSPC</th>\n",
       "      <th>^IXIC</th>\n",
       "      <th>^GDAXI</th>\n",
       "    </tr>\n",
       "    <tr>\n",
       "      <th>Date</th>\n",
       "      <th></th>\n",
       "      <th></th>\n",
       "      <th></th>\n",
       "    </tr>\n",
       "  </thead>\n",
       "  <tbody>\n",
       "    <tr>\n",
       "      <th>2020-06-15</th>\n",
       "      <td>3066.590088</td>\n",
       "      <td>9726.019531</td>\n",
       "      <td>11911.349609</td>\n",
       "    </tr>\n",
       "    <tr>\n",
       "      <th>2020-06-16</th>\n",
       "      <td>3124.739990</td>\n",
       "      <td>9895.870117</td>\n",
       "      <td>12315.660156</td>\n",
       "    </tr>\n",
       "    <tr>\n",
       "      <th>2020-06-17</th>\n",
       "      <td>3113.489990</td>\n",
       "      <td>9910.530273</td>\n",
       "      <td>12382.139648</td>\n",
       "    </tr>\n",
       "    <tr>\n",
       "      <th>2020-06-18</th>\n",
       "      <td>3115.340088</td>\n",
       "      <td>9943.049805</td>\n",
       "      <td>12281.530273</td>\n",
       "    </tr>\n",
       "    <tr>\n",
       "      <th>2020-06-19</th>\n",
       "      <td>3097.739990</td>\n",
       "      <td>9946.120117</td>\n",
       "      <td>12330.759766</td>\n",
       "    </tr>\n",
       "  </tbody>\n",
       "</table>\n",
       "</div>"
      ],
      "text/plain": [
       "                  ^GSPC        ^IXIC        ^GDAXI\n",
       "Date                                              \n",
       "2020-06-15  3066.590088  9726.019531  11911.349609\n",
       "2020-06-16  3124.739990  9895.870117  12315.660156\n",
       "2020-06-17  3113.489990  9910.530273  12382.139648\n",
       "2020-06-18  3115.340088  9943.049805  12281.530273\n",
       "2020-06-19  3097.739990  9946.120117  12330.759766"
      ]
     },
     "execution_count": 67,
     "metadata": {},
     "output_type": "execute_result"
    }
   ],
   "source": [
    "ind_data.tail()"
   ]
  },
  {
   "cell_type": "code",
   "execution_count": 68,
   "metadata": {},
   "outputs": [
    {
     "data": {
      "text/html": [
       "<div>\n",
       "<style scoped>\n",
       "    .dataframe tbody tr th:only-of-type {\n",
       "        vertical-align: middle;\n",
       "    }\n",
       "\n",
       "    .dataframe tbody tr th {\n",
       "        vertical-align: top;\n",
       "    }\n",
       "\n",
       "    .dataframe thead th {\n",
       "        text-align: right;\n",
       "    }\n",
       "</style>\n",
       "<table border=\"1\" class=\"dataframe\">\n",
       "  <thead>\n",
       "    <tr style=\"text-align: right;\">\n",
       "      <th></th>\n",
       "      <th>^GSPC</th>\n",
       "      <th>^IXIC</th>\n",
       "      <th>^GDAXI</th>\n",
       "    </tr>\n",
       "    <tr>\n",
       "      <th>Date</th>\n",
       "      <th></th>\n",
       "      <th></th>\n",
       "      <th></th>\n",
       "    </tr>\n",
       "  </thead>\n",
       "  <tbody>\n",
       "    <tr>\n",
       "      <th>2007-01-03</th>\n",
       "      <td>1416.599976</td>\n",
       "      <td>2423.159912</td>\n",
       "      <td>6691.319824</td>\n",
       "    </tr>\n",
       "    <tr>\n",
       "      <th>2007-01-04</th>\n",
       "      <td>1418.339966</td>\n",
       "      <td>2453.429932</td>\n",
       "      <td>6674.399902</td>\n",
       "    </tr>\n",
       "    <tr>\n",
       "      <th>2007-01-05</th>\n",
       "      <td>1409.709961</td>\n",
       "      <td>2434.250000</td>\n",
       "      <td>6593.089844</td>\n",
       "    </tr>\n",
       "    <tr>\n",
       "      <th>2007-01-08</th>\n",
       "      <td>1412.839966</td>\n",
       "      <td>2438.199951</td>\n",
       "      <td>6607.589844</td>\n",
       "    </tr>\n",
       "    <tr>\n",
       "      <th>2007-01-09</th>\n",
       "      <td>1412.109985</td>\n",
       "      <td>2443.830078</td>\n",
       "      <td>6614.370117</td>\n",
       "    </tr>\n",
       "  </tbody>\n",
       "</table>\n",
       "</div>"
      ],
      "text/plain": [
       "                  ^GSPC        ^IXIC       ^GDAXI\n",
       "Date                                             \n",
       "2007-01-03  1416.599976  2423.159912  6691.319824\n",
       "2007-01-04  1418.339966  2453.429932  6674.399902\n",
       "2007-01-05  1409.709961  2434.250000  6593.089844\n",
       "2007-01-08  1412.839966  2438.199951  6607.589844\n",
       "2007-01-09  1412.109985  2443.830078  6614.370117"
      ]
     },
     "execution_count": 68,
     "metadata": {},
     "output_type": "execute_result"
    }
   ],
   "source": [
    "ind_data.head()"
   ]
  },
  {
   "cell_type": "code",
   "execution_count": 69,
   "metadata": {},
   "outputs": [
    {
     "data": {
      "text/html": [
       "<div>\n",
       "<style scoped>\n",
       "    .dataframe tbody tr th:only-of-type {\n",
       "        vertical-align: middle;\n",
       "    }\n",
       "\n",
       "    .dataframe tbody tr th {\n",
       "        vertical-align: top;\n",
       "    }\n",
       "\n",
       "    .dataframe thead th {\n",
       "        text-align: right;\n",
       "    }\n",
       "</style>\n",
       "<table border=\"1\" class=\"dataframe\">\n",
       "  <thead>\n",
       "    <tr style=\"text-align: right;\">\n",
       "      <th></th>\n",
       "      <th>^GSPC</th>\n",
       "      <th>^IXIC</th>\n",
       "      <th>^GDAXI</th>\n",
       "    </tr>\n",
       "    <tr>\n",
       "      <th>Date</th>\n",
       "      <th></th>\n",
       "      <th></th>\n",
       "      <th></th>\n",
       "    </tr>\n",
       "  </thead>\n",
       "  <tbody>\n",
       "    <tr>\n",
       "      <th>2007-01-03</th>\n",
       "      <td>100.000000</td>\n",
       "      <td>100.000000</td>\n",
       "      <td>100.000000</td>\n",
       "    </tr>\n",
       "    <tr>\n",
       "      <th>2007-01-04</th>\n",
       "      <td>100.122829</td>\n",
       "      <td>101.249196</td>\n",
       "      <td>99.747136</td>\n",
       "    </tr>\n",
       "    <tr>\n",
       "      <th>2007-01-05</th>\n",
       "      <td>99.513623</td>\n",
       "      <td>100.457670</td>\n",
       "      <td>98.531979</td>\n",
       "    </tr>\n",
       "    <tr>\n",
       "      <th>2007-01-08</th>\n",
       "      <td>99.734575</td>\n",
       "      <td>100.620679</td>\n",
       "      <td>98.748678</td>\n",
       "    </tr>\n",
       "    <tr>\n",
       "      <th>2007-01-09</th>\n",
       "      <td>99.683045</td>\n",
       "      <td>100.853025</td>\n",
       "      <td>98.850007</td>\n",
       "    </tr>\n",
       "    <tr>\n",
       "      <th>...</th>\n",
       "      <td>...</td>\n",
       "      <td>...</td>\n",
       "      <td>...</td>\n",
       "    </tr>\n",
       "    <tr>\n",
       "      <th>2020-06-15</th>\n",
       "      <td>216.475373</td>\n",
       "      <td>401.377535</td>\n",
       "      <td>178.011961</td>\n",
       "    </tr>\n",
       "    <tr>\n",
       "      <th>2020-06-16</th>\n",
       "      <td>220.580266</td>\n",
       "      <td>408.387002</td>\n",
       "      <td>184.054274</td>\n",
       "    </tr>\n",
       "    <tr>\n",
       "      <th>2020-06-17</th>\n",
       "      <td>219.786111</td>\n",
       "      <td>408.992004</td>\n",
       "      <td>185.047793</td>\n",
       "    </tr>\n",
       "    <tr>\n",
       "      <th>2020-06-18</th>\n",
       "      <td>219.916712</td>\n",
       "      <td>410.334033</td>\n",
       "      <td>183.544212</td>\n",
       "    </tr>\n",
       "    <tr>\n",
       "      <th>2020-06-19</th>\n",
       "      <td>218.674294</td>\n",
       "      <td>410.460740</td>\n",
       "      <td>184.279934</td>\n",
       "    </tr>\n",
       "  </tbody>\n",
       "</table>\n",
       "<p>3390 rows × 3 columns</p>\n",
       "</div>"
      ],
      "text/plain": [
       "                 ^GSPC       ^IXIC      ^GDAXI\n",
       "Date                                          \n",
       "2007-01-03  100.000000  100.000000  100.000000\n",
       "2007-01-04  100.122829  101.249196   99.747136\n",
       "2007-01-05   99.513623  100.457670   98.531979\n",
       "2007-01-08   99.734575  100.620679   98.748678\n",
       "2007-01-09   99.683045  100.853025   98.850007\n",
       "...                ...         ...         ...\n",
       "2020-06-15  216.475373  401.377535  178.011961\n",
       "2020-06-16  220.580266  408.387002  184.054274\n",
       "2020-06-17  219.786111  408.992004  185.047793\n",
       "2020-06-18  219.916712  410.334033  183.544212\n",
       "2020-06-19  218.674294  410.460740  184.279934\n",
       "\n",
       "[3390 rows x 3 columns]"
      ]
     },
     "execution_count": 69,
     "metadata": {},
     "output_type": "execute_result"
    }
   ],
   "source": [
    "ind_data/ind_data.iloc[0]*100"
   ]
  },
  {
   "cell_type": "code",
   "execution_count": 70,
   "metadata": {},
   "outputs": [
    {
     "data": {
      "image/png": "[encoded data removed]",
      "text/plain": [
       "<Figure size 1080x432 with 1 Axes>"
      ]
     },
     "metadata": {
      "needs_background": "light"
     },
     "output_type": "display_data"
    }
   ],
   "source": [
    "#plotting\n",
    "(ind_data/ind_data.iloc[0]*100).plot(figsize=(15,6))\n",
    "plt.show()\n"
   ]
  },
  {
   "cell_type": "code",
   "execution_count": 71,
   "metadata": {},
   "outputs": [],
   "source": [
    "#interpretation: in 2008 recession and 2011 sovreign debt crisis, all are down but after recession, Nasdaq IT tech index has higher performance and consistency\n",
    "#overall in long term all indices are performing good\n"
   ]
  },
  {
   "cell_type": "code",
   "execution_count": 72,
   "metadata": {},
   "outputs": [],
   "source": [
    "ind_returns=(ind_data/ind_data.shift(1))-1"
   ]
  },
  {
   "cell_type": "code",
   "execution_count": 73,
   "metadata": {},
   "outputs": [
    {
     "data": {
      "text/html": [
       "<div>\n",
       "<style scoped>\n",
       "    .dataframe tbody tr th:only-of-type {\n",
       "        vertical-align: middle;\n",
       "    }\n",
       "\n",
       "    .dataframe tbody tr th {\n",
       "        vertical-align: top;\n",
       "    }\n",
       "\n",
       "    .dataframe thead th {\n",
       "        text-align: right;\n",
       "    }\n",
       "</style>\n",
       "<table border=\"1\" class=\"dataframe\">\n",
       "  <thead>\n",
       "    <tr style=\"text-align: right;\">\n",
       "      <th></th>\n",
       "      <th>^GSPC</th>\n",
       "      <th>^IXIC</th>\n",
       "      <th>^GDAXI</th>\n",
       "    </tr>\n",
       "    <tr>\n",
       "      <th>Date</th>\n",
       "      <th></th>\n",
       "      <th></th>\n",
       "      <th></th>\n",
       "    </tr>\n",
       "  </thead>\n",
       "  <tbody>\n",
       "    <tr>\n",
       "      <th>2007-01-03</th>\n",
       "      <td>NaN</td>\n",
       "      <td>NaN</td>\n",
       "      <td>NaN</td>\n",
       "    </tr>\n",
       "    <tr>\n",
       "      <th>2007-01-04</th>\n",
       "      <td>0.001228</td>\n",
       "      <td>0.012492</td>\n",
       "      <td>-0.002529</td>\n",
       "    </tr>\n",
       "    <tr>\n",
       "      <th>2007-01-05</th>\n",
       "      <td>-0.006085</td>\n",
       "      <td>-0.007818</td>\n",
       "      <td>-0.012182</td>\n",
       "    </tr>\n",
       "    <tr>\n",
       "      <th>2007-01-08</th>\n",
       "      <td>0.002220</td>\n",
       "      <td>0.001623</td>\n",
       "      <td>0.002199</td>\n",
       "    </tr>\n",
       "    <tr>\n",
       "      <th>2007-01-09</th>\n",
       "      <td>-0.000517</td>\n",
       "      <td>0.002309</td>\n",
       "      <td>0.001026</td>\n",
       "    </tr>\n",
       "  </tbody>\n",
       "</table>\n",
       "</div>"
      ],
      "text/plain": [
       "               ^GSPC     ^IXIC    ^GDAXI\n",
       "Date                                    \n",
       "2007-01-03       NaN       NaN       NaN\n",
       "2007-01-04  0.001228  0.012492 -0.002529\n",
       "2007-01-05 -0.006085 -0.007818 -0.012182\n",
       "2007-01-08  0.002220  0.001623  0.002199\n",
       "2007-01-09 -0.000517  0.002309  0.001026"
      ]
     },
     "execution_count": 73,
     "metadata": {},
     "output_type": "execute_result"
    }
   ],
   "source": [
    "ind_returns.head()"
   ]
  },
  {
   "cell_type": "code",
   "execution_count": 74,
   "metadata": {},
   "outputs": [
    {
     "data": {
      "text/plain": [
       "^GSPC     0.079517\n",
       "^IXIC     0.128960\n",
       "^GDAXI    0.058944\n",
       "dtype: float64"
      ]
     },
     "execution_count": 74,
     "metadata": {},
     "output_type": "execute_result"
    }
   ],
   "source": [
    "annaul_returns = ind_returns.mean()*250\n",
    "annaul_returns#all indices are positive"
   ]
  },
  {
   "cell_type": "code",
   "execution_count": 75,
   "metadata": {},
   "outputs": [],
   "source": [
    "#Nasdaq surpasses both"
   ]
  },
  {
   "cell_type": "markdown",
   "metadata": {},
   "source": [
    "# Comparing PG stock with indices"
   ]
  },
  {
   "cell_type": "code",
   "execution_count": 76,
   "metadata": {},
   "outputs": [],
   "source": [
    "tickers=['PG', '^GSPC', '^IXIC', '^GDAXI']\n",
    "data_2=pd.DataFrame()\n",
    "for t in tickers:\n",
    "    data_2[t]=wb.DataReader(t, data_source='yahoo', start='2007-01-01')['Adj Close']\n"
   ]
  },
  {
   "cell_type": "code",
   "execution_count": 77,
   "metadata": {},
   "outputs": [
    {
     "data": {
      "text/html": [
       "<div>\n",
       "<style scoped>\n",
       "    .dataframe tbody tr th:only-of-type {\n",
       "        vertical-align: middle;\n",
       "    }\n",
       "\n",
       "    .dataframe tbody tr th {\n",
       "        vertical-align: top;\n",
       "    }\n",
       "\n",
       "    .dataframe thead th {\n",
       "        text-align: right;\n",
       "    }\n",
       "</style>\n",
       "<table border=\"1\" class=\"dataframe\">\n",
       "  <thead>\n",
       "    <tr style=\"text-align: right;\">\n",
       "      <th></th>\n",
       "      <th>PG</th>\n",
       "      <th>^GSPC</th>\n",
       "      <th>^IXIC</th>\n",
       "      <th>^GDAXI</th>\n",
       "    </tr>\n",
       "    <tr>\n",
       "      <th>Date</th>\n",
       "      <th></th>\n",
       "      <th></th>\n",
       "      <th></th>\n",
       "      <th></th>\n",
       "    </tr>\n",
       "  </thead>\n",
       "  <tbody>\n",
       "    <tr>\n",
       "      <th>2007-01-03</th>\n",
       "      <td>43.147480</td>\n",
       "      <td>1416.599976</td>\n",
       "      <td>2423.159912</td>\n",
       "      <td>6691.319824</td>\n",
       "    </tr>\n",
       "    <tr>\n",
       "      <th>2007-01-04</th>\n",
       "      <td>42.819897</td>\n",
       "      <td>1418.339966</td>\n",
       "      <td>2453.429932</td>\n",
       "      <td>6674.399902</td>\n",
       "    </tr>\n",
       "    <tr>\n",
       "      <th>2007-01-05</th>\n",
       "      <td>42.452206</td>\n",
       "      <td>1409.709961</td>\n",
       "      <td>2434.250000</td>\n",
       "      <td>6593.089844</td>\n",
       "    </tr>\n",
       "    <tr>\n",
       "      <th>2007-01-08</th>\n",
       "      <td>42.545799</td>\n",
       "      <td>1412.839966</td>\n",
       "      <td>2438.199951</td>\n",
       "      <td>6607.589844</td>\n",
       "    </tr>\n",
       "    <tr>\n",
       "      <th>2007-01-09</th>\n",
       "      <td>42.438835</td>\n",
       "      <td>1412.109985</td>\n",
       "      <td>2443.830078</td>\n",
       "      <td>6614.370117</td>\n",
       "    </tr>\n",
       "  </tbody>\n",
       "</table>\n",
       "</div>"
      ],
      "text/plain": [
       "                   PG        ^GSPC        ^IXIC       ^GDAXI\n",
       "Date                                                        \n",
       "2007-01-03  43.147480  1416.599976  2423.159912  6691.319824\n",
       "2007-01-04  42.819897  1418.339966  2453.429932  6674.399902\n",
       "2007-01-05  42.452206  1409.709961  2434.250000  6593.089844\n",
       "2007-01-08  42.545799  1412.839966  2438.199951  6607.589844\n",
       "2007-01-09  42.438835  1412.109985  2443.830078  6614.370117"
      ]
     },
     "execution_count": 77,
     "metadata": {},
     "output_type": "execute_result"
    }
   ],
   "source": [
    "data_2.head()"
   ]
  },
  {
   "cell_type": "code",
   "execution_count": 78,
   "metadata": {},
   "outputs": [
    {
     "data": {
      "text/html": [
       "<div>\n",
       "<style scoped>\n",
       "    .dataframe tbody tr th:only-of-type {\n",
       "        vertical-align: middle;\n",
       "    }\n",
       "\n",
       "    .dataframe tbody tr th {\n",
       "        vertical-align: top;\n",
       "    }\n",
       "\n",
       "    .dataframe thead th {\n",
       "        text-align: right;\n",
       "    }\n",
       "</style>\n",
       "<table border=\"1\" class=\"dataframe\">\n",
       "  <thead>\n",
       "    <tr style=\"text-align: right;\">\n",
       "      <th></th>\n",
       "      <th>PG</th>\n",
       "      <th>^GSPC</th>\n",
       "      <th>^IXIC</th>\n",
       "      <th>^GDAXI</th>\n",
       "    </tr>\n",
       "    <tr>\n",
       "      <th>Date</th>\n",
       "      <th></th>\n",
       "      <th></th>\n",
       "      <th></th>\n",
       "      <th></th>\n",
       "    </tr>\n",
       "  </thead>\n",
       "  <tbody>\n",
       "    <tr>\n",
       "      <th>2007-01-03</th>\n",
       "      <td>100.000000</td>\n",
       "      <td>100.000000</td>\n",
       "      <td>100.000000</td>\n",
       "      <td>100.000000</td>\n",
       "    </tr>\n",
       "    <tr>\n",
       "      <th>2007-01-04</th>\n",
       "      <td>99.240782</td>\n",
       "      <td>100.122829</td>\n",
       "      <td>101.249196</td>\n",
       "      <td>99.747136</td>\n",
       "    </tr>\n",
       "    <tr>\n",
       "      <th>2007-01-05</th>\n",
       "      <td>98.388610</td>\n",
       "      <td>99.513623</td>\n",
       "      <td>100.457670</td>\n",
       "      <td>98.531979</td>\n",
       "    </tr>\n",
       "    <tr>\n",
       "      <th>2007-01-08</th>\n",
       "      <td>98.605525</td>\n",
       "      <td>99.734575</td>\n",
       "      <td>100.620679</td>\n",
       "      <td>98.748678</td>\n",
       "    </tr>\n",
       "    <tr>\n",
       "      <th>2007-01-09</th>\n",
       "      <td>98.357622</td>\n",
       "      <td>99.683045</td>\n",
       "      <td>100.853025</td>\n",
       "      <td>98.850007</td>\n",
       "    </tr>\n",
       "    <tr>\n",
       "      <th>...</th>\n",
       "      <td>...</td>\n",
       "      <td>...</td>\n",
       "      <td>...</td>\n",
       "      <td>...</td>\n",
       "    </tr>\n",
       "    <tr>\n",
       "      <th>2020-06-15</th>\n",
       "      <td>270.444537</td>\n",
       "      <td>216.475373</td>\n",
       "      <td>401.377535</td>\n",
       "      <td>178.011961</td>\n",
       "    </tr>\n",
       "    <tr>\n",
       "      <th>2020-06-16</th>\n",
       "      <td>273.781915</td>\n",
       "      <td>220.580266</td>\n",
       "      <td>408.387002</td>\n",
       "      <td>184.054274</td>\n",
       "    </tr>\n",
       "    <tr>\n",
       "      <th>2020-06-17</th>\n",
       "      <td>273.318396</td>\n",
       "      <td>219.786111</td>\n",
       "      <td>408.992004</td>\n",
       "      <td>185.047793</td>\n",
       "    </tr>\n",
       "    <tr>\n",
       "      <th>2020-06-18</th>\n",
       "      <td>276.447196</td>\n",
       "      <td>219.916712</td>\n",
       "      <td>410.334033</td>\n",
       "      <td>183.544212</td>\n",
       "    </tr>\n",
       "    <tr>\n",
       "      <th>2020-06-19</th>\n",
       "      <td>275.612847</td>\n",
       "      <td>218.674294</td>\n",
       "      <td>410.460740</td>\n",
       "      <td>184.279934</td>\n",
       "    </tr>\n",
       "  </tbody>\n",
       "</table>\n",
       "<p>3390 rows × 4 columns</p>\n",
       "</div>"
      ],
      "text/plain": [
       "                    PG       ^GSPC       ^IXIC      ^GDAXI\n",
       "Date                                                      \n",
       "2007-01-03  100.000000  100.000000  100.000000  100.000000\n",
       "2007-01-04   99.240782  100.122829  101.249196   99.747136\n",
       "2007-01-05   98.388610   99.513623  100.457670   98.531979\n",
       "2007-01-08   98.605525   99.734575  100.620679   98.748678\n",
       "2007-01-09   98.357622   99.683045  100.853025   98.850007\n",
       "...                ...         ...         ...         ...\n",
       "2020-06-15  270.444537  216.475373  401.377535  178.011961\n",
       "2020-06-16  273.781915  220.580266  408.387002  184.054274\n",
       "2020-06-17  273.318396  219.786111  408.992004  185.047793\n",
       "2020-06-18  276.447196  219.916712  410.334033  183.544212\n",
       "2020-06-19  275.612847  218.674294  410.460740  184.279934\n",
       "\n",
       "[3390 rows x 4 columns]"
      ]
     },
     "execution_count": 78,
     "metadata": {},
     "output_type": "execute_result"
    }
   ],
   "source": [
    " #normalize to 100 for comparison\n",
    "data_2/data_2.iloc[0]*100"
   ]
  },
  {
   "cell_type": "code",
   "execution_count": 79,
   "metadata": {},
   "outputs": [],
   "source": [
    "#ploting "
   ]
  },
  {
   "cell_type": "code",
   "execution_count": 80,
   "metadata": {},
   "outputs": [
    {
     "data": {
      "image/png": "[encoded data removed]",
      "text/plain": [
       "<Figure size 1080x648 with 1 Axes>"
      ]
     },
     "metadata": {
      "needs_background": "light"
     },
     "output_type": "display_data"
    }
   ],
   "source": [
    "(data_2/data_2.iloc[0]*100).plot(figsize = (15,9))\n",
    "plt.show()"
   ]
  },
  {
   "cell_type": "code",
   "execution_count": 81,
   "metadata": {},
   "outputs": [],
   "source": [
    "#interpretation: PG is performing better than GSPC and GDAXI"
   ]
  },
  {
   "cell_type": "markdown",
   "metadata": {},
   "source": [
    "# Calculating the risk of a security"
   ]
  },
  {
   "cell_type": "code",
   "execution_count": 82,
   "metadata": {},
   "outputs": [],
   "source": [
    "import numpy as np\n",
    "import pandas as pd\n",
    "from pandas_datareader import data as wb\n",
    "import matplotlib.pyplot as plt\n",
    "%matplotlib inline"
   ]
  },
  {
   "cell_type": "code",
   "execution_count": 83,
   "metadata": {},
   "outputs": [],
   "source": [
    "#calculating the risk of two securities i.e PG and BEI.DE"
   ]
  },
  {
   "cell_type": "code",
   "execution_count": 84,
   "metadata": {},
   "outputs": [],
   "source": [
    "tickers = ['RELIANCE.NS', 'TTM']\n",
    "sec_data= pd.DataFrame()\n",
    "\n",
    "for t in tickers:\n",
    "    sec_data[t] = wb.DataReader(t, data_source='yahoo', start = '2004-09-27')['Adj Close']\n",
    "\n"
   ]
  },
  {
   "cell_type": "code",
   "execution_count": 85,
   "metadata": {},
   "outputs": [
    {
     "data": {
      "text/html": [
       "<div>\n",
       "<style scoped>\n",
       "    .dataframe tbody tr th:only-of-type {\n",
       "        vertical-align: middle;\n",
       "    }\n",
       "\n",
       "    .dataframe tbody tr th {\n",
       "        vertical-align: top;\n",
       "    }\n",
       "\n",
       "    .dataframe thead th {\n",
       "        text-align: right;\n",
       "    }\n",
       "</style>\n",
       "<table border=\"1\" class=\"dataframe\">\n",
       "  <thead>\n",
       "    <tr style=\"text-align: right;\">\n",
       "      <th></th>\n",
       "      <th>RELIANCE.NS</th>\n",
       "      <th>TTM</th>\n",
       "    </tr>\n",
       "    <tr>\n",
       "      <th>Date</th>\n",
       "      <th></th>\n",
       "      <th></th>\n",
       "    </tr>\n",
       "  </thead>\n",
       "  <tbody>\n",
       "    <tr>\n",
       "      <th>2004-09-27</th>\n",
       "      <td>53.373577</td>\n",
       "      <td>7.724547</td>\n",
       "    </tr>\n",
       "    <tr>\n",
       "      <th>2004-09-28</th>\n",
       "      <td>53.470577</td>\n",
       "      <td>7.395305</td>\n",
       "    </tr>\n",
       "    <tr>\n",
       "      <th>2004-09-29</th>\n",
       "      <td>55.409828</td>\n",
       "      <td>7.386862</td>\n",
       "    </tr>\n",
       "    <tr>\n",
       "      <th>2004-09-30</th>\n",
       "      <td>55.797745</td>\n",
       "      <td>7.572589</td>\n",
       "    </tr>\n",
       "    <tr>\n",
       "      <th>2004-10-01</th>\n",
       "      <td>57.451477</td>\n",
       "      <td>7.808968</td>\n",
       "    </tr>\n",
       "  </tbody>\n",
       "</table>\n",
       "</div>"
      ],
      "text/plain": [
       "            RELIANCE.NS       TTM\n",
       "Date                             \n",
       "2004-09-27    53.373577  7.724547\n",
       "2004-09-28    53.470577  7.395305\n",
       "2004-09-29    55.409828  7.386862\n",
       "2004-09-30    55.797745  7.572589\n",
       "2004-10-01    57.451477  7.808968"
      ]
     },
     "execution_count": 85,
     "metadata": {},
     "output_type": "execute_result"
    }
   ],
   "source": [
    "sec_data.head()"
   ]
  },
  {
   "cell_type": "code",
   "execution_count": 86,
   "metadata": {},
   "outputs": [],
   "source": [
    "sec_returns=np.log(sec_data/sec_data.shift(1))#using log returns for daily returns"
   ]
  },
  {
   "cell_type": "code",
   "execution_count": 87,
   "metadata": {},
   "outputs": [
    {
     "data": {
      "text/html": [
       "<div>\n",
       "<style scoped>\n",
       "    .dataframe tbody tr th:only-of-type {\n",
       "        vertical-align: middle;\n",
       "    }\n",
       "\n",
       "    .dataframe tbody tr th {\n",
       "        vertical-align: top;\n",
       "    }\n",
       "\n",
       "    .dataframe thead th {\n",
       "        text-align: right;\n",
       "    }\n",
       "</style>\n",
       "<table border=\"1\" class=\"dataframe\">\n",
       "  <thead>\n",
       "    <tr style=\"text-align: right;\">\n",
       "      <th></th>\n",
       "      <th>RELIANCE.NS</th>\n",
       "      <th>TTM</th>\n",
       "    </tr>\n",
       "    <tr>\n",
       "      <th>Date</th>\n",
       "      <th></th>\n",
       "      <th></th>\n",
       "    </tr>\n",
       "  </thead>\n",
       "  <tbody>\n",
       "    <tr>\n",
       "      <th>2004-09-27</th>\n",
       "      <td>NaN</td>\n",
       "      <td>NaN</td>\n",
       "    </tr>\n",
       "    <tr>\n",
       "      <th>2004-09-28</th>\n",
       "      <td>0.001816</td>\n",
       "      <td>-0.043558</td>\n",
       "    </tr>\n",
       "    <tr>\n",
       "      <th>2004-09-29</th>\n",
       "      <td>0.035625</td>\n",
       "      <td>-0.001142</td>\n",
       "    </tr>\n",
       "    <tr>\n",
       "      <th>2004-09-30</th>\n",
       "      <td>0.006976</td>\n",
       "      <td>0.024832</td>\n",
       "    </tr>\n",
       "    <tr>\n",
       "      <th>2004-10-01</th>\n",
       "      <td>0.029207</td>\n",
       "      <td>0.030738</td>\n",
       "    </tr>\n",
       "    <tr>\n",
       "      <th>...</th>\n",
       "      <td>...</td>\n",
       "      <td>...</td>\n",
       "    </tr>\n",
       "    <tr>\n",
       "      <th>2020-06-15</th>\n",
       "      <td>0.016077</td>\n",
       "      <td>-0.042311</td>\n",
       "    </tr>\n",
       "    <tr>\n",
       "      <th>2020-06-16</th>\n",
       "      <td>0.001949</td>\n",
       "      <td>-0.061463</td>\n",
       "    </tr>\n",
       "    <tr>\n",
       "      <th>2020-06-17</th>\n",
       "      <td>-0.001454</td>\n",
       "      <td>-0.019201</td>\n",
       "    </tr>\n",
       "    <tr>\n",
       "      <th>2020-06-18</th>\n",
       "      <td>0.024793</td>\n",
       "      <td>0.028664</td>\n",
       "    </tr>\n",
       "    <tr>\n",
       "      <th>2020-06-19</th>\n",
       "      <td>0.060628</td>\n",
       "      <td>0.033954</td>\n",
       "    </tr>\n",
       "  </tbody>\n",
       "</table>\n",
       "<p>3869 rows × 2 columns</p>\n",
       "</div>"
      ],
      "text/plain": [
       "            RELIANCE.NS       TTM\n",
       "Date                             \n",
       "2004-09-27          NaN       NaN\n",
       "2004-09-28     0.001816 -0.043558\n",
       "2004-09-29     0.035625 -0.001142\n",
       "2004-09-30     0.006976  0.024832\n",
       "2004-10-01     0.029207  0.030738\n",
       "...                 ...       ...\n",
       "2020-06-15     0.016077 -0.042311\n",
       "2020-06-16     0.001949 -0.061463\n",
       "2020-06-17    -0.001454 -0.019201\n",
       "2020-06-18     0.024793  0.028664\n",
       "2020-06-19     0.060628  0.033954\n",
       "\n",
       "[3869 rows x 2 columns]"
      ]
     },
     "execution_count": 87,
     "metadata": {},
     "output_type": "execute_result"
    }
   ],
   "source": [
    "sec_returns\n"
   ]
  },
  {
   "cell_type": "markdown",
   "metadata": {},
   "source": [
    "# RELIANCE"
   ]
  },
  {
   "cell_type": "code",
   "execution_count": 88,
   "metadata": {},
   "outputs": [
    {
     "data": {
      "text/plain": [
       "0.0009036743334316844"
      ]
     },
     "execution_count": 88,
     "metadata": {},
     "output_type": "execute_result"
    }
   ],
   "source": [
    "sec_returns[\"RELIANCE.NS\"].mean() #average daily returns"
   ]
  },
  {
   "cell_type": "code",
   "execution_count": 89,
   "metadata": {},
   "outputs": [
    {
     "data": {
      "text/plain": [
       "0.22591858335792112"
      ]
     },
     "execution_count": 89,
     "metadata": {},
     "output_type": "execute_result"
    }
   ],
   "source": [
    "sec_returns['RELIANCE.NS'].mean()*250# annaul returns with 250 is working days"
   ]
  },
  {
   "cell_type": "code",
   "execution_count": 90,
   "metadata": {},
   "outputs": [
    {
     "data": {
      "text/plain": [
       "0.0007043032691987476"
      ]
     },
     "execution_count": 90,
     "metadata": {},
     "output_type": "execute_result"
    }
   ],
   "source": [
    "sec_returns['RELIANCE.NS'].var()#volatility/dispersion of data around mean(always positive)"
   ]
  },
  {
   "cell_type": "code",
   "execution_count": 91,
   "metadata": {},
   "outputs": [
    {
     "data": {
      "text/plain": [
       "0.1760758172996869"
      ]
     },
     "execution_count": 91,
     "metadata": {},
     "output_type": "execute_result"
    }
   ],
   "source": [
    "sec_returns['RELIANCE.NS'].var()*250"
   ]
  },
  {
   "cell_type": "code",
   "execution_count": 92,
   "metadata": {},
   "outputs": [
    {
     "data": {
      "text/plain": [
       "6.634678162874348"
      ]
     },
     "execution_count": 92,
     "metadata": {},
     "output_type": "execute_result"
    }
   ],
   "source": [
    "sec_returns['RELIANCE.NS'].std()*250"
   ]
  },
  {
   "cell_type": "code",
   "execution_count": 93,
   "metadata": {},
   "outputs": [
    {
     "data": {
      "text/plain": [
       "0.025892450175174265"
      ]
     },
     "execution_count": 93,
     "metadata": {},
     "output_type": "execute_result"
    }
   ],
   "source": [
    "np.sqrt(0.0006704189760738819)"
   ]
  },
  {
   "cell_type": "code",
   "execution_count": 94,
   "metadata": {},
   "outputs": [
    {
     "data": {
      "text/plain": [
       "0.41961389073729066"
      ]
     },
     "execution_count": 94,
     "metadata": {},
     "output_type": "execute_result"
    }
   ],
   "source": [
    "risk_Rel=np.sqrt(sec_returns['RELIANCE.NS'].var()*250)#standard deviation \n",
    "risk_Rel"
   ]
  },
  {
   "cell_type": "code",
   "execution_count": 95,
   "metadata": {},
   "outputs": [
    {
     "data": {
      "text/plain": [
       "0.41961389073729066"
      ]
     },
     "execution_count": 95,
     "metadata": {},
     "output_type": "execute_result"
    }
   ],
   "source": [
    "#same can be obtained\n",
    "sec_returns['RELIANCE.NS'].std()*250**0.5"
   ]
  },
  {
   "cell_type": "markdown",
   "metadata": {},
   "source": [
    "# Tata TTM"
   ]
  },
  {
   "cell_type": "code",
   "execution_count": 96,
   "metadata": {},
   "outputs": [
    {
     "data": {
      "text/plain": [
       "-0.00012150023034042643"
      ]
     },
     "execution_count": 96,
     "metadata": {},
     "output_type": "execute_result"
    }
   ],
   "source": [
    "sec_returns['TTM'].mean()#average daily returns"
   ]
  },
  {
   "cell_type": "code",
   "execution_count": 97,
   "metadata": {},
   "outputs": [
    {
     "data": {
      "text/plain": [
       "-0.03037505758510661"
      ]
     },
     "execution_count": 97,
     "metadata": {},
     "output_type": "execute_result"
    }
   ],
   "source": [
    "sec_returns['TTM'].mean()*250#annaul returns"
   ]
  },
  {
   "cell_type": "code",
   "execution_count": 98,
   "metadata": {},
   "outputs": [
    {
     "data": {
      "text/plain": [
       "0.0009059746503924576"
      ]
     },
     "execution_count": 98,
     "metadata": {},
     "output_type": "execute_result"
    }
   ],
   "source": [
    "sec_returns['TTM'].var()"
   ]
  },
  {
   "cell_type": "code",
   "execution_count": 99,
   "metadata": {},
   "outputs": [
    {
     "data": {
      "text/plain": [
       "0.2264936625981144"
      ]
     },
     "execution_count": 99,
     "metadata": {},
     "output_type": "execute_result"
    }
   ],
   "source": [
    "sec_returns['TTM'].var()*250"
   ]
  },
  {
   "cell_type": "code",
   "execution_count": 100,
   "metadata": {},
   "outputs": [
    {
     "data": {
      "text/plain": [
       "0.4759135032735617"
      ]
     },
     "execution_count": 100,
     "metadata": {},
     "output_type": "execute_result"
    }
   ],
   "source": [
    "risk_ttm=np.sqrt(sec_returns['TTM'].var()*250)#standard deviation\n",
    "risk_ttm"
   ]
  },
  {
   "cell_type": "code",
   "execution_count": 101,
   "metadata": {},
   "outputs": [
    {
     "name": "stdout",
     "output_type": "stream",
     "text": [
      "0.22591858335792112\n",
      "-0.03037505758510661\n"
     ]
    }
   ],
   "source": [
    "#both annual average returns\n",
    "print(sec_returns['RELIANCE.NS'].mean()*250)\n",
    "print(sec_returns['TTM'].mean()*250)"
   ]
  },
  {
   "cell_type": "code",
   "execution_count": 102,
   "metadata": {},
   "outputs": [
    {
     "data": {
      "text/plain": [
       "RELIANCE.NS    0.225919\n",
       "TTM           -0.030375\n",
       "dtype: float64"
      ]
     },
     "execution_count": 102,
     "metadata": {},
     "output_type": "execute_result"
    }
   ],
   "source": [
    "#OR \n",
    "sec_returns[['RELIANCE.NS', 'TTM']].mean()*250#used double bracket for 2dimension"
   ]
  },
  {
   "cell_type": "code",
   "execution_count": 103,
   "metadata": {},
   "outputs": [
    {
     "name": "stdout",
     "output_type": "stream",
     "text": [
      "0.41961389073729066\n",
      "0.4759135032735617\n"
     ]
    }
   ],
   "source": [
    "#both risk together\n",
    "print(risk_Rel)\n",
    "print(risk_ttm)"
   ]
  },
  {
   "cell_type": "code",
   "execution_count": 104,
   "metadata": {},
   "outputs": [
    {
     "name": "stdout",
     "output_type": "stream",
     "text": [
      "0.41961389073729066 0.4759135032735617\n"
     ]
    }
   ],
   "source": [
    "#or\n",
    "print(risk_Rel, risk_ttm)"
   ]
  },
  {
   "cell_type": "code",
   "execution_count": 105,
   "metadata": {},
   "outputs": [],
   "source": [
    "#interpretation: ttm is slighly volatile and risky as compared to reliance"
   ]
  },
  {
   "cell_type": "markdown",
   "metadata": {},
   "source": [
    "# Calculating covariance and correlation"
   ]
  },
  {
   "cell_type": "code",
   "execution_count": 106,
   "metadata": {},
   "outputs": [
    {
     "data": {
      "text/html": [
       "<div>\n",
       "<style scoped>\n",
       "    .dataframe tbody tr th:only-of-type {\n",
       "        vertical-align: middle;\n",
       "    }\n",
       "\n",
       "    .dataframe tbody tr th {\n",
       "        vertical-align: top;\n",
       "    }\n",
       "\n",
       "    .dataframe thead th {\n",
       "        text-align: right;\n",
       "    }\n",
       "</style>\n",
       "<table border=\"1\" class=\"dataframe\">\n",
       "  <thead>\n",
       "    <tr style=\"text-align: right;\">\n",
       "      <th></th>\n",
       "      <th>RELIANCE.NS</th>\n",
       "      <th>TTM</th>\n",
       "    </tr>\n",
       "  </thead>\n",
       "  <tbody>\n",
       "    <tr>\n",
       "      <th>RELIANCE.NS</th>\n",
       "      <td>0.000704</td>\n",
       "      <td>0.000243</td>\n",
       "    </tr>\n",
       "    <tr>\n",
       "      <th>TTM</th>\n",
       "      <td>0.000243</td>\n",
       "      <td>0.000906</td>\n",
       "    </tr>\n",
       "  </tbody>\n",
       "</table>\n",
       "</div>"
      ],
      "text/plain": [
       "             RELIANCE.NS       TTM\n",
       "RELIANCE.NS     0.000704  0.000243\n",
       "TTM             0.000243  0.000906"
      ]
     },
     "execution_count": 106,
     "metadata": {},
     "output_type": "execute_result"
    }
   ],
   "source": [
    "cov_matrix=sec_returns.cov()\n",
    "cov_matrix"
   ]
  },
  {
   "cell_type": "code",
   "execution_count": 107,
   "metadata": {},
   "outputs": [
    {
     "data": {
      "text/html": [
       "<div>\n",
       "<style scoped>\n",
       "    .dataframe tbody tr th:only-of-type {\n",
       "        vertical-align: middle;\n",
       "    }\n",
       "\n",
       "    .dataframe tbody tr th {\n",
       "        vertical-align: top;\n",
       "    }\n",
       "\n",
       "    .dataframe thead th {\n",
       "        text-align: right;\n",
       "    }\n",
       "</style>\n",
       "<table border=\"1\" class=\"dataframe\">\n",
       "  <thead>\n",
       "    <tr style=\"text-align: right;\">\n",
       "      <th></th>\n",
       "      <th>RELIANCE.NS</th>\n",
       "      <th>TTM</th>\n",
       "    </tr>\n",
       "  </thead>\n",
       "  <tbody>\n",
       "    <tr>\n",
       "      <th>RELIANCE.NS</th>\n",
       "      <td>0.176076</td>\n",
       "      <td>0.060866</td>\n",
       "    </tr>\n",
       "    <tr>\n",
       "      <th>TTM</th>\n",
       "      <td>0.060866</td>\n",
       "      <td>0.226494</td>\n",
       "    </tr>\n",
       "  </tbody>\n",
       "</table>\n",
       "</div>"
      ],
      "text/plain": [
       "             RELIANCE.NS       TTM\n",
       "RELIANCE.NS     0.176076  0.060866\n",
       "TTM             0.060866  0.226494"
      ]
     },
     "execution_count": 107,
     "metadata": {},
     "output_type": "execute_result"
    }
   ],
   "source": [
    "#annual cov matrix\n",
    "cov_matrix_a=sec_returns.cov()*250\n",
    "cov_matrix_a"
   ]
  },
  {
   "cell_type": "code",
   "execution_count": 108,
   "metadata": {},
   "outputs": [
    {
     "data": {
      "text/plain": [
       "0.1760758172996869"
      ]
     },
     "execution_count": 108,
     "metadata": {},
     "output_type": "execute_result"
    }
   ],
   "source": [
    "#checking the same\n",
    "sec_returns['RELIANCE.NS'].var()*250\n"
   ]
  },
  {
   "cell_type": "code",
   "execution_count": 109,
   "metadata": {},
   "outputs": [
    {
     "data": {
      "text/plain": [
       "0.2264936625981144"
      ]
     },
     "execution_count": 109,
     "metadata": {},
     "output_type": "execute_result"
    }
   ],
   "source": [
    "sec_returns['TTM'].var()*250"
   ]
  },
  {
   "cell_type": "code",
   "execution_count": 110,
   "metadata": {},
   "outputs": [
    {
     "data": {
      "text/html": [
       "<div>\n",
       "<style scoped>\n",
       "    .dataframe tbody tr th:only-of-type {\n",
       "        vertical-align: middle;\n",
       "    }\n",
       "\n",
       "    .dataframe tbody tr th {\n",
       "        vertical-align: top;\n",
       "    }\n",
       "\n",
       "    .dataframe thead th {\n",
       "        text-align: right;\n",
       "    }\n",
       "</style>\n",
       "<table border=\"1\" class=\"dataframe\">\n",
       "  <thead>\n",
       "    <tr style=\"text-align: right;\">\n",
       "      <th></th>\n",
       "      <th>RELIANCE.NS</th>\n",
       "      <th>TTM</th>\n",
       "    </tr>\n",
       "  </thead>\n",
       "  <tbody>\n",
       "    <tr>\n",
       "      <th>RELIANCE.NS</th>\n",
       "      <td>1.000000</td>\n",
       "      <td>0.377168</td>\n",
       "    </tr>\n",
       "    <tr>\n",
       "      <th>TTM</th>\n",
       "      <td>0.377168</td>\n",
       "      <td>1.000000</td>\n",
       "    </tr>\n",
       "  </tbody>\n",
       "</table>\n",
       "</div>"
      ],
      "text/plain": [
       "             RELIANCE.NS       TTM\n",
       "RELIANCE.NS     1.000000  0.377168\n",
       "TTM             0.377168  1.000000"
      ]
     },
     "execution_count": 110,
     "metadata": {},
     "output_type": "execute_result"
    }
   ],
   "source": [
    "#CORRELATION\n",
    "corr_matrix=sec_returns.corr()\n",
    "corr_matrix"
   ]
  },
  {
   "cell_type": "code",
   "execution_count": 111,
   "metadata": {},
   "outputs": [],
   "source": [
    "#corr of sec_returns(not stock price) in between REL and TTM is 0.37\n",
    "#dont multiply by 250 to correlation to annualize"
   ]
  },
  {
   "cell_type": "code",
   "execution_count": 112,
   "metadata": {},
   "outputs": [],
   "source": [
    "#we calculated expected portfolio returns but not portfolio variance.\n",
    "#portfolio variance=f(var.of stock A, var.of stock B and corr of A and B)\n",
    "#eg. portfolio variance of (Facebook and LinkedIN) not equal to Portfolio variance of (Facebook and Walmart) even variance of Linkedin and Walmart is same"
   ]
  },
  {
   "cell_type": "code",
   "execution_count": 113,
   "metadata": {},
   "outputs": [],
   "source": [
    "#portfolio variance of 2stock is given by\n",
    "#(weight1*stdv1+weight2*stdv2)^2=weight1^2*stdv1^2+2weight1*stdv1*weight2*stdv2*corr12+weight2^2*stdv2^2\n",
    "#weight1+weight2=1\n",
    "#in other words, =weight1^2*var1+2weight1*weight2*cov(1,2)+weight2^2*var2"
   ]
  },
  {
   "cell_type": "markdown",
   "metadata": {},
   "source": [
    "# calculating portfolio risk/variance/volatility"
   ]
  },
  {
   "cell_type": "code",
   "execution_count": 114,
   "metadata": {},
   "outputs": [],
   "source": [
    "#in algebra (ab)^2=a^2*b^2\n",
    "#in matrix (aB)^2=a(transpose)*B*a\n",
    "#portfolio var=weights(tran)*cov()*weights"
   ]
  },
  {
   "cell_type": "code",
   "execution_count": 115,
   "metadata": {},
   "outputs": [
    {
     "data": {
      "text/plain": [
       "array([0.5, 0.5])"
      ]
     },
     "execution_count": 115,
     "metadata": {},
     "output_type": "execute_result"
    }
   ],
   "source": [
    "#for equal weights in Reliance and TTM\n",
    "weights=np.array([0.5,0.5])\n",
    "weights"
   ]
  },
  {
   "cell_type": "code",
   "execution_count": 116,
   "metadata": {},
   "outputs": [
    {
     "data": {
      "text/plain": [
       "0.13107559559216006"
      ]
     },
     "execution_count": 116,
     "metadata": {},
     "output_type": "execute_result"
    }
   ],
   "source": [
    "#portfolio var between Reliance and TTM\n",
    "import numpy as np\n",
    "pfolio_v = np.dot(weights.T, np.dot(sec_returns.cov()*250, weights))\n",
    "pfolio_v"
   ]
  },
  {
   "cell_type": "code",
   "execution_count": 117,
   "metadata": {},
   "outputs": [],
   "source": [
    "#for portfolio volatility, raise portfolio var to power of 0.5"
   ]
  },
  {
   "cell_type": "code",
   "execution_count": 118,
   "metadata": {},
   "outputs": [
    {
     "data": {
      "text/plain": [
       "0.36204363769048625"
      ]
     },
     "execution_count": 118,
     "metadata": {},
     "output_type": "execute_result"
    }
   ],
   "source": [
    "#portfolio volatility\n",
    "pfolio_vol = (np.dot(weights.T, np.dot(sec_returns.cov()*250, weights)))**0.5\n",
    "pfolio_vol"
   ]
  },
  {
   "cell_type": "code",
   "execution_count": 119,
   "metadata": {},
   "outputs": [
    {
     "name": "stdout",
     "output_type": "stream",
     "text": [
      "36.199999999999996%\n"
     ]
    }
   ],
   "source": [
    "print (str(round(pfolio_vol, 4)*100) + '%')"
   ]
  },
  {
   "cell_type": "code",
   "execution_count": 120,
   "metadata": {},
   "outputs": [],
   "source": [
    "#risk is of two types=1. systematic risk or undiversifible risk due to recession, wars, earthequeaks. 2. Idiosyndratic/diversifible risk/company specific risk driven by company specific events"
   ]
  },
  {
   "cell_type": "code",
   "execution_count": 121,
   "metadata": {},
   "outputs": [],
   "source": [
    "#diversifible risk can be eliminated if we invest in non-correlated assets like technology, energy, construction, healthcare and so on"
   ]
  },
  {
   "cell_type": "code",
   "execution_count": 122,
   "metadata": {},
   "outputs": [],
   "source": [
    "#some investors even make portfolio in different countries to further narrow down the risk."
   ]
  },
  {
   "cell_type": "markdown",
   "metadata": {},
   "source": [
    "# calculating diversifible and non-diversifible risk of portfolio\n"
   ]
  },
  {
   "cell_type": "code",
   "execution_count": 123,
   "metadata": {},
   "outputs": [],
   "source": [
    "weights = np.array([0.5,0.5])"
   ]
  },
  {
   "cell_type": "code",
   "execution_count": 124,
   "metadata": {},
   "outputs": [
    {
     "data": {
      "text/plain": [
       "0.5"
      ]
     },
     "execution_count": 124,
     "metadata": {},
     "output_type": "execute_result"
    }
   ],
   "source": [
    "weights[0]"
   ]
  },
  {
   "cell_type": "code",
   "execution_count": 125,
   "metadata": {},
   "outputs": [
    {
     "data": {
      "text/plain": [
       "0.5"
      ]
     },
     "execution_count": 125,
     "metadata": {},
     "output_type": "execute_result"
    }
   ],
   "source": [
    "weights[1]"
   ]
  },
  {
   "cell_type": "markdown",
   "metadata": {},
   "source": [
    "# Diversifible risk of portfolio"
   ]
  },
  {
   "cell_type": "markdown",
   "metadata": {},
   "source": [
    "# diversifible risk= portfolio variance - weighted annual variance"
   ]
  },
  {
   "cell_type": "code",
   "execution_count": 127,
   "metadata": {},
   "outputs": [],
   "source": [
    "rel_var_a = sec_returns['RELIANCE.NS'].var()*250"
   ]
  },
  {
   "cell_type": "code",
   "execution_count": 128,
   "metadata": {},
   "outputs": [
    {
     "data": {
      "text/plain": [
       "0.1760758172996869"
      ]
     },
     "execution_count": 128,
     "metadata": {},
     "output_type": "execute_result"
    }
   ],
   "source": [
    "rel_var_a"
   ]
  },
  {
   "cell_type": "code",
   "execution_count": 129,
   "metadata": {},
   "outputs": [],
   "source": [
    "TTM_var_a = sec_returns['TTM'].var()*250\n"
   ]
  },
  {
   "cell_type": "code",
   "execution_count": 130,
   "metadata": {},
   "outputs": [
    {
     "data": {
      "text/plain": [
       "0.2264936625981144"
      ]
     },
     "execution_count": 130,
     "metadata": {},
     "output_type": "execute_result"
    }
   ],
   "source": [
    "TTM_var_a"
   ]
  },
  {
   "cell_type": "code",
   "execution_count": 131,
   "metadata": {},
   "outputs": [],
   "source": [
    "#diversifible risk (unsystematic ) dr\n",
    "dr = pfolio_v - (weights[0]**2 * rel_var_a)-(weights[1]**2 * TTM_var_a)"
   ]
  },
  {
   "cell_type": "code",
   "execution_count": 132,
   "metadata": {},
   "outputs": [
    {
     "data": {
      "text/plain": [
       "0.030433225617709732"
      ]
     },
     "execution_count": 132,
     "metadata": {},
     "output_type": "execute_result"
    }
   ],
   "source": [
    "dr"
   ]
  },
  {
   "cell_type": "code",
   "execution_count": 133,
   "metadata": {},
   "outputs": [
    {
     "name": "stdout",
     "output_type": "stream",
     "text": [
      "3.0433%\n"
     ]
    }
   ],
   "source": [
    "print (str(round(dr*100, 4)) + '%')"
   ]
  },
  {
   "cell_type": "markdown",
   "metadata": {},
   "source": [
    "# Nondiversifible risk n_dr or systematic risk"
   ]
  },
  {
   "cell_type": "code",
   "execution_count": 134,
   "metadata": {},
   "outputs": [],
   "source": [
    "#remaining part of risk is systematic risk\n"
   ]
  },
  {
   "cell_type": "code",
   "execution_count": 135,
   "metadata": {},
   "outputs": [
    {
     "data": {
      "text/plain": [
       "0.10064236997445034"
      ]
     },
     "execution_count": 135,
     "metadata": {},
     "output_type": "execute_result"
    }
   ],
   "source": [
    "n_dr_1 = pfolio_v - dr\n",
    "n_dr_1"
   ]
  },
  {
   "cell_type": "code",
   "execution_count": 136,
   "metadata": {},
   "outputs": [
    {
     "data": {
      "text/plain": [
       "0.10064236997445034"
      ]
     },
     "execution_count": 136,
     "metadata": {},
     "output_type": "execute_result"
    }
   ],
   "source": [
    "#or same can be obtained by sum of weighted annual variances\n",
    "n_dr_2 = (weights[0]**2 * rel_var_a) + (weights[1]**2 * TTM_var_a)\n",
    "n_dr_2"
   ]
  },
  {
   "cell_type": "code",
   "execution_count": 137,
   "metadata": {},
   "outputs": [
    {
     "data": {
      "text/plain": [
       "True"
      ]
     },
     "execution_count": 137,
     "metadata": {},
     "output_type": "execute_result"
    }
   ],
   "source": [
    "#boolean equality\n",
    "n_dr_1 ==n_dr_2"
   ]
  },
  {
   "cell_type": "code",
   "execution_count": null,
   "metadata": {},
   "outputs": [],
   "source": []
  },
  {
   "cell_type": "code",
   "execution_count": null,
   "metadata": {},
   "outputs": [],
   "source": []
  },
  {
   "cell_type": "code",
   "execution_count": null,
   "metadata": {},
   "outputs": [],
   "source": []
  },
  {
   "cell_type": "code",
   "execution_count": null,
   "metadata": {},
   "outputs": [],
   "source": []
  },
  {
   "cell_type": "code",
   "execution_count": null,
   "metadata": {},
   "outputs": [],
   "source": []
  }
 ],
 "metadata": {
  "kernelspec": {
   "display_name": "Python 3",
   "language": "python",
   "name": "python3"
  },
  "language_info": {
   "codemirror_mode": {
    "name": "ipython",
    "version": 3
   },
   "file_extension": ".py",
   "mimetype": "text/x-python",
   "name": "python",
   "nbconvert_exporter": "python",
   "pygments_lexer": "ipython3",
   "version": "3.7.6"
  }
 },
 "nbformat": 4,
 "nbformat_minor": 4
}
